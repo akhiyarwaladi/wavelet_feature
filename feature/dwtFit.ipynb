{
 "cells": [
  {
   "cell_type": "code",
   "execution_count": 1,
   "metadata": {},
   "outputs": [],
   "source": [
    "import os\n",
    "import sys\n",
    "import time\n",
    "import datetime\n",
    "import socket\n",
    "import yaml\n",
    "import shutil\n",
    "from sklearn.externals import joblib \n",
    "\n",
    "feaName = 'wmiftah'\n",
    "sys.path.append('./wavelet/wmiftah'); import wmiftah\n",
    "extractor = wmiftah"
   ]
  },
  {
   "cell_type": "code",
   "execution_count": 2,
   "metadata": {},
   "outputs": [
    {
     "name": "stdout",
     "output_type": "stream",
     "text": [
      "bercak-bulat 328\n",
      "sehat 247\n",
      "bercak-garis 328\n",
      "semuanya 903\n"
     ]
    }
   ],
   "source": [
    "feaPath = '../xprmt/feature/extract-wtio-eomf-mlbox-20181106-181303/eomf'\n",
    "#feaPath = '../xprmt/feature/extract-wmiftah-eomf-mlbox-20180903-060016/eomf'\n",
    "\n",
    "xList = []\n",
    "yList = []\n",
    "yLi = os.listdir(feaPath)\n",
    "sumdat = 0\n",
    "for i in yLi:\n",
    "    file = os.listdir(feaPath+ \"/\" + i)\n",
    "    cnt = 0\n",
    "    for j in file:\n",
    "        if j.endswith('.pkl'):\n",
    "            #print(j)\n",
    "            x = joblib.load(feaPath + \"/\" + i + \"/\" +j)\n",
    "            xList.append(x)\n",
    "            yList.append(i)\n",
    "            cnt += 1\n",
    "    print(str(i) + \" \" + str(cnt))\n",
    "    sumdat += cnt\n",
    "print(\"semuanya \"+ str(sumdat))\n",
    "    "
   ]
  },
  {
   "cell_type": "code",
   "execution_count": 3,
   "metadata": {},
   "outputs": [],
   "source": [
    "import numpy as np\n",
    "xList = np.array(xList)\n",
    "yList = np.array(yList)"
   ]
  },
  {
   "cell_type": "code",
   "execution_count": 4,
   "metadata": {},
   "outputs": [
    {
     "name": "stdout",
     "output_type": "stream",
     "text": [
      "903\n",
      "903\n"
     ]
    }
   ],
   "source": [
    "print(len(xList))\n",
    "print(len(yList))"
   ]
  },
  {
   "cell_type": "code",
   "execution_count": 5,
   "metadata": {},
   "outputs": [
    {
     "name": "stdout",
     "output_type": "stream",
     "text": [
      "722\n",
      "181\n"
     ]
    }
   ],
   "source": [
    "from sklearn.model_selection import train_test_split\n",
    "X_train, X_test, y_train, y_test = train_test_split(xList, yList, random_state = 42, test_size = 0.2)\n",
    "print(len(X_train))\n",
    "print(len(X_test))"
   ]
  },
  {
   "cell_type": "code",
   "execution_count": 6,
   "metadata": {},
   "outputs": [
    {
     "data": {
      "text/plain": [
       "(722, 120)"
      ]
     },
     "execution_count": 6,
     "metadata": {},
     "output_type": "execute_result"
    }
   ],
   "source": [
    "X_train.shape"
   ]
  },
  {
   "cell_type": "code",
   "execution_count": 7,
   "metadata": {},
   "outputs": [
    {
     "data": {
      "text/plain": [
       "RandomForestClassifier(bootstrap=True, class_weight=None, criterion='gini',\n",
       "            max_depth=None, max_features='auto', max_leaf_nodes=None,\n",
       "            min_impurity_decrease=0.0, min_impurity_split=None,\n",
       "            min_samples_leaf=1, min_samples_split=2,\n",
       "            min_weight_fraction_leaf=0.0, n_estimators=10, n_jobs=1,\n",
       "            oob_score=False, random_state=None, verbose=0,\n",
       "            warm_start=False)"
      ]
     },
     "execution_count": 7,
     "metadata": {},
     "output_type": "execute_result"
    }
   ],
   "source": [
    "from sklearn.ensemble import RandomForestClassifier\n",
    "clf = RandomForestClassifier()\n",
    "clf.fit(X_train, y_train)"
   ]
  },
  {
   "cell_type": "code",
   "execution_count": 8,
   "metadata": {},
   "outputs": [
    {
     "name": "stdout",
     "output_type": "stream",
     "text": [
      "0.8397790055248618\n"
     ]
    }
   ],
   "source": [
    "prediksi = clf.predict(X_test)\n",
    "from sklearn.metrics import accuracy_score\n",
    "print(accuracy_score(y_test, prediksi))"
   ]
  },
  {
   "cell_type": "code",
   "execution_count": 9,
   "metadata": {},
   "outputs": [
    {
     "name": "stdout",
     "output_type": "stream",
     "text": [
      "[0.86813187 0.76923077 0.81318681 0.78021978 0.78021978 0.75824176\n",
      " 0.79120879 0.82222222 0.80681818 0.89772727]\n"
     ]
    }
   ],
   "source": [
    "from sklearn.model_selection import cross_val_score\n",
    "print(cross_val_score(clf, xList, yList, cv=10))"
   ]
  },
  {
   "cell_type": "code",
   "execution_count": 10,
   "metadata": {},
   "outputs": [
    {
     "name": "stdout",
     "output_type": "stream",
     "text": [
      "==============================\n",
      "KNeighborsClassifier\n",
      "****Results****\n",
      "Accuracy: 74.0331%\n",
      "Log Loss: 3.1794041606213903\n",
      "MeanCVScore: 0.669157509157509\n",
      "10FoldCVScore: [0.6483516483516484, 0.5714285714285714, 0.5384615384615384, 0.7666666666666667, 0.7111111111111111, 0.7888888888888889, 0.8, 0.6, 0.6, 0.6666666666666666]\n",
      "==============================\n",
      "SVC\n",
      "****Results****\n",
      "Accuracy: 64.6409%\n",
      "Log Loss: 0.7593248358319253\n",
      "MeanCVScore: 0.17437118437118437\n",
      "10FoldCVScore: [0.0, 0.01098901098901099, 0.054945054945054944, 0.3888888888888889, 0.43333333333333335, 0.3888888888888889, 0.43333333333333335, 0.03333333333333333, 0.0, 0.0]\n",
      "==============================\n",
      "NuSVC\n",
      "****Results****\n",
      "Accuracy: 84.5304%\n",
      "Log Loss: 0.42931585876603723\n",
      "MeanCVScore: 0.72998778998779\n",
      "10FoldCVScore: [0.6703296703296703, 0.6593406593406593, 0.6813186813186813, 0.8333333333333334, 0.8333333333333334, 0.7111111111111111, 0.8333333333333334, 0.5555555555555556, 0.7555555555555555, 0.7666666666666667]\n",
      "==============================\n",
      "DecisionTreeClassifier\n",
      "****Results****\n",
      "Accuracy: 69.0608%\n",
      "Log Loss: 10.68603026582872\n",
      "MeanCVScore: 0.6768253968253969\n",
      "10FoldCVScore: [0.6153846153846154, 0.6153846153846154, 0.6263736263736264, 0.7, 0.7777777777777778, 0.6777777777777778, 0.7222222222222222, 0.6777777777777778, 0.6777777777777778, 0.6777777777777778]\n",
      "==============================\n",
      "RandomForestClassifier\n",
      "****Results****\n",
      "Accuracy: 80.6630%\n",
      "Log Loss: 0.44144059006606995\n",
      "MeanCVScore: 0.7322100122100123\n",
      "10FoldCVScore: [0.6813186813186813, 0.6593406593406593, 0.6703296703296703, 0.8444444444444444, 0.8222222222222222, 0.7666666666666667, 0.7555555555555555, 0.6444444444444445, 0.6666666666666666, 0.8111111111111111]\n",
      "==============================\n",
      "AdaBoostClassifier\n",
      "****Results****\n",
      "Accuracy: 70.7182%\n",
      "Log Loss: 0.960530189521363\n",
      "MeanCVScore: 0.6415750915750915\n",
      "10FoldCVScore: [0.5274725274725275, 0.5604395604395604, 0.4945054945054945, 0.6, 0.7555555555555555, 0.7555555555555555, 0.7777777777777778, 0.6, 0.6, 0.7444444444444445]\n",
      "==============================\n",
      "GradientBoostingClassifier\n",
      "****Results****\n",
      "Accuracy: 85.6354%\n",
      "Log Loss: 0.35106574746062785\n",
      "MeanCVScore: 0.8108669108669109\n",
      "10FoldCVScore: [0.8131868131868132, 0.7252747252747253, 0.6813186813186813, 0.8444444444444444, 0.8666666666666667, 0.8555555555555555, 0.8777777777777778, 0.7333333333333333, 0.8333333333333334, 0.8777777777777778]\n",
      "==============================\n",
      "GaussianNB\n",
      "****Results****\n",
      "Accuracy: 64.6409%\n",
      "Log Loss: 6.606279827826186\n",
      "MeanCVScore: 0.6339194139194139\n",
      "10FoldCVScore: [0.5164835164835165, 0.4835164835164835, 0.4725274725274725, 0.6888888888888889, 0.9, 0.8777777777777778, 0.7111111111111111, 0.37777777777777777, 0.5777777777777777, 0.7333333333333333]\n",
      "==============================\n",
      "LinearDiscriminantAnalysis\n",
      "****Results****\n",
      "Accuracy: 90.6077%\n",
      "Log Loss: 0.25423343504433094\n",
      "MeanCVScore: 0.8770940170940171\n",
      "10FoldCVScore: [0.945054945054945, 0.8351648351648352, 0.8351648351648352, 0.8555555555555555, 0.9333333333333333, 0.9333333333333333, 0.9333333333333333, 0.8222222222222222, 0.8444444444444444, 0.8333333333333334]\n",
      "==============================\n",
      "QuadraticDiscriminantAnalysis\n",
      "****Results****\n",
      "Accuracy: 74.5856%\n",
      "Log Loss: 5.39633530932843\n",
      "MeanCVScore: 0.618864468864469\n",
      "10FoldCVScore: [0.6703296703296703, 0.6813186813186813, 0.6703296703296703, 0.6444444444444445, 0.34444444444444444, 0.2, 0.7111111111111111, 0.4888888888888889, 0.8777777777777778, 0.9]\n",
      "==============================\n"
     ]
    },
    {
     "name": "stderr",
     "output_type": "stream",
     "text": [
      "/home/akhiyar/anaconda3/envs/fastai/lib/python3.6/site-packages/sklearn/discriminant_analysis.py:388: UserWarning: Variables are collinear.\n",
      "  warnings.warn(\"Variables are collinear.\")\n",
      "/home/akhiyar/anaconda3/envs/fastai/lib/python3.6/site-packages/sklearn/discriminant_analysis.py:442: UserWarning: The priors do not sum to 1. Renormalizing\n",
      "  UserWarning)\n",
      "/home/akhiyar/anaconda3/envs/fastai/lib/python3.6/site-packages/sklearn/discriminant_analysis.py:682: UserWarning: Variables are collinear\n",
      "  warnings.warn(\"Variables are collinear\")\n"
     ]
    }
   ],
   "source": [
    "from sklearn.metrics import accuracy_score, log_loss\n",
    "from sklearn.neighbors import KNeighborsClassifier\n",
    "from sklearn.svm import SVC, LinearSVC, NuSVC\n",
    "from sklearn.tree import DecisionTreeClassifier\n",
    "from sklearn.ensemble import RandomForestClassifier, AdaBoostClassifier, GradientBoostingClassifier\n",
    "from sklearn.naive_bayes import GaussianNB\n",
    "from sklearn.discriminant_analysis import LinearDiscriminantAnalysis\n",
    "from sklearn.discriminant_analysis import QuadraticDiscriminantAnalysis\n",
    "import pandas as pd\n",
    "from sklearn.model_selection import cross_val_score, KFold\n",
    "\n",
    "classifiers = [\n",
    "    KNeighborsClassifier(3),\n",
    "    SVC(kernel=\"rbf\", C=0.025, probability=True),\n",
    "    NuSVC(probability=True),\n",
    "    DecisionTreeClassifier(),\n",
    "    RandomForestClassifier(),\n",
    "    AdaBoostClassifier(),\n",
    "    GradientBoostingClassifier(),\n",
    "    GaussianNB(),\n",
    "    LinearDiscriminantAnalysis(),\n",
    "    QuadraticDiscriminantAnalysis()]\n",
    "\n",
    "# Logging for Visual Comparison\n",
    "log_cols=[\"Classifier\", \"Accuracy\", \"Log Loss\"]\n",
    "log = pd.DataFrame(columns=log_cols)\n",
    "\n",
    "for clf in classifiers:\n",
    "    clf.fit(X_train, y_train)\n",
    "    name = clf.__class__.__name__\n",
    "    \n",
    "    print(\"=\"*30)\n",
    "    print(name)\n",
    "    \n",
    "    print('****Results****')\n",
    "    train_predictions = clf.predict(X_test)\n",
    "    acc = accuracy_score(y_test, train_predictions)\n",
    "    print(\"Accuracy: {:.4%}\".format(acc))\n",
    "    \n",
    "    train_predictions = clf.predict_proba(X_test)\n",
    "    ll = log_loss(y_test, train_predictions)\n",
    "    print(\"Log Loss: {}\".format(ll))\n",
    "    \n",
    "    log_entry = pd.DataFrame([[name, acc*100, ll]], columns=log_cols)\n",
    "    log = log.append(log_entry)\n",
    "    \n",
    "    ########################## perform 10 fold validation ######################\n",
    "    kf = KFold(n_splits=10)\n",
    "    scorelist = []\n",
    "    for train_index, test_index in kf.split(xList):\n",
    "        clf.fit(xList[train_index], yList[train_index])\n",
    "        p = clf.predict(xList[test_index])\n",
    "        accval = accuracy_score(yList[test_index], p)\n",
    "        scorelist.append(accval)\n",
    "    \n",
    "    print(\"MeanCVScore: {}\".format(sum(scorelist)/len(scorelist)))\n",
    "    print(\"10FoldCVScore: {}\".format(scorelist))\n",
    "    #############################################################################\n",
    "    \n",
    "print(\"=\"*30)"
   ]
  },
  {
   "cell_type": "code",
   "execution_count": 11,
   "metadata": {},
   "outputs": [],
   "source": [
    "######################################################## JUNK"
   ]
  }
 ],
 "metadata": {
  "kernelspec": {
   "display_name": "Python [conda env:fastai]",
   "language": "python",
   "name": "conda-env-fastai-py"
  },
  "language_info": {
   "codemirror_mode": {
    "name": "ipython",
    "version": 3
   },
   "file_extension": ".py",
   "mimetype": "text/x-python",
   "name": "python",
   "nbconvert_exporter": "python",
   "pygments_lexer": "ipython3",
   "version": "3.6.4"
  }
 },
 "nbformat": 4,
 "nbformat_minor": 2
}
