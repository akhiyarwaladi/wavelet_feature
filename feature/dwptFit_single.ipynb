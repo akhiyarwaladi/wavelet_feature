{
 "cells": [
  {
   "cell_type": "code",
   "execution_count": 1,
   "metadata": {
    "collapsed": true
   },
   "outputs": [],
   "source": [
    "import os\n",
    "import sys\n",
    "import time\n",
    "import datetime\n",
    "import socket\n",
    "import yaml\n",
    "import shutil\n",
    "\n",
    "import pandas as pd\n",
    "import numpy as np\n",
    "\n",
    "from sklearn.externals import joblib \n",
    "\n",
    "from sklearn.metrics import accuracy_score, log_loss, f1_score, confusion_matrix, classification_report\n",
    "from sklearn.neighbors import KNeighborsClassifier\n",
    "from sklearn.svm import SVC, LinearSVC, NuSVC\n",
    "from sklearn.tree import DecisionTreeClassifier\n",
    "from sklearn.ensemble import RandomForestClassifier, AdaBoostClassifier, GradientBoostingClassifier, VotingClassifier\n",
    "from sklearn.naive_bayes import GaussianNB\n",
    "from sklearn.discriminant_analysis import LinearDiscriminantAnalysis, QuadraticDiscriminantAnalysis\n",
    "from sklearn.model_selection import cross_val_score, KFold, StratifiedKFold\n",
    "\n",
    "import warnings\n",
    "warnings.simplefilter(action='ignore', category=FutureWarning)\n",
    "warnings.simplefilter(action='ignore', category=UserWarning)"
   ]
  },
  {
   "cell_type": "code",
   "execution_count": 2,
   "metadata": {},
   "outputs": [
    {
     "name": "stdout",
     "output_type": "stream",
     "text": [
      "../xprmt/feature/extract-haralick-DataPH2_lesion_hairremove_augmented-mlbox-20181117-145539/DataPH2_lesion_hairremove_augmented\n",
      "Melanoma 80\n",
      "Atypical Nevus 80\n",
      "Common Nevus 80\n",
      "semuanya 240\n",
      "../xprmt/feature/extract-slbp-DataPH2_lesion_hairremove_augmented-mlbox-20181117-144735/DataPH2_lesion_hairremove_augmented\n",
      "Melanoma 80\n",
      "Atypical Nevus 80\n",
      "Common Nevus 80\n",
      "semuanya 240\n",
      "../xprmt/feature/extract-wtio-DataPH2_lesion_hairremove_augmented-mlbox-20181119-082251/DataPH2_lesion_hairremove_augmented\n",
      "Melanoma 80\n",
      "Atypical Nevus 80\n",
      "Common Nevus 80\n",
      "semuanya 240\n"
     ]
    }
   ],
   "source": [
    "folderFeature = 'feature'\n",
    "feaPaths = ['../xprmt/'+folderFeature+'/extract-haralick-DataPH2_lesion_hairremove_augmented-mlbox-20181117-145539/DataPH2_lesion_hairremove_augmented',\n",
    "           '../xprmt/'+folderFeature+'/extract-slbp-DataPH2_lesion_hairremove_augmented-mlbox-20181117-144735/DataPH2_lesion_hairremove_augmented',\n",
    "           '../xprmt/'+folderFeature+'/extract-wtio-DataPH2_lesion_hairremove_augmented-mlbox-20181119-082251/DataPH2_lesion_hairremove_augmented',\n",
    "          ]\n",
    "\n",
    "featureList = []\n",
    "labelList = []\n",
    "for feaPath in feaPaths:\n",
    "    print(feaPath)\n",
    "    xListL = []\n",
    "    yListL = []\n",
    "    yLi = os.listdir(feaPath)\n",
    "    sumdat = 0\n",
    "    for i in yLi:\n",
    "        file = os.listdir(feaPath+ \"/\" + i)\n",
    "        cnt = 0\n",
    "        for j in file:\n",
    "            if j.endswith('.pkl'):\n",
    "                #print(j)\n",
    "                x = joblib.load(feaPath + \"/\" + i + \"/\" +j)\n",
    "                xListL.append(x)\n",
    "                yListL.append(i)\n",
    "                cnt += 1\n",
    "        print(str(i) + \" \" + str(cnt))\n",
    "        sumdat += cnt\n",
    "    \n",
    "    print(\"semuanya \"+ str(sumdat))\n",
    "    featureList.append(xListL)\n",
    "    labelList.append(yListL)\n",
    "\n",
    "xList = np.concatenate((featureList[0], featureList[1]), axis=1)\n",
    "for idx in range(len(featureList)-2):\n",
    "    xList = np.concatenate((xList, featureList[idx+2]), axis=1)\n",
    "\n",
    "xList1 = xList\n",
    "yList1 = labelList[0]"
   ]
  },
  {
   "cell_type": "code",
   "execution_count": 3,
   "metadata": {},
   "outputs": [
    {
     "name": "stdout",
     "output_type": "stream",
     "text": [
      "(240, 2079)\n",
      "(240,)\n"
     ]
    }
   ],
   "source": [
    "xList = np.array(xList1)\n",
    "yList = np.array(yList1)\n",
    "print(xList.shape)\n",
    "print(yList.shape)"
   ]
  },
  {
   "cell_type": "code",
   "execution_count": 4,
   "metadata": {
    "collapsed": true
   },
   "outputs": [],
   "source": [
    "from sklearn.preprocessing import normalize\n",
    "xList = normalize(xList, norm='l2', axis=0)"
   ]
  },
  {
   "cell_type": "code",
   "execution_count": 5,
   "metadata": {
    "collapsed": true
   },
   "outputs": [],
   "source": [
    "from sklearn.model_selection import train_test_split\n",
    "X_train, X_test, y_train, y_test = train_test_split(xList, yList, random_state = 42, test_size = 0.2)"
   ]
  },
  {
   "cell_type": "code",
   "execution_count": 6,
   "metadata": {},
   "outputs": [
    {
     "name": "stdout",
     "output_type": "stream",
     "text": [
      "(192, 2079)\n"
     ]
    }
   ],
   "source": [
    "print(X_train.shape)"
   ]
  },
  {
   "cell_type": "code",
   "execution_count": 7,
   "metadata": {},
   "outputs": [
    {
     "name": "stdout",
     "output_type": "stream",
     "text": [
      "0.7083333333333334\n",
      "                precision    recall  f1-score   support\n",
      "\n",
      "Atypical Nevus       0.52      0.80      0.63        15\n",
      "  Common Nevus       0.73      0.47      0.57        17\n",
      "      Melanoma       1.00      0.88      0.93        16\n",
      "\n",
      "     micro avg       0.71      0.71      0.71        48\n",
      "     macro avg       0.75      0.72      0.71        48\n",
      "  weighted avg       0.75      0.71      0.71        48\n",
      "\n",
      "(0.7151960784313726, 0.8566308243727598, None)\n"
     ]
    }
   ],
   "source": [
    "from sklearn.ensemble import RandomForestClassifier\n",
    "from imblearn.metrics import sensitivity_specificity_support\n",
    "clf = RandomForestClassifier(random_state=6)\n",
    "clf.fit(X_train, y_train)\n",
    "prediksi = clf.predict(X_test)\n",
    "from sklearn.metrics import accuracy_score\n",
    "print(accuracy_score(y_test, prediksi))\n",
    "print(classification_report(y_test, prediksi))\n",
    "print(sensitivity_specificity_support(y_test, prediksi, average='macro'))"
   ]
  },
  {
   "cell_type": "code",
   "execution_count": 8,
   "metadata": {},
   "outputs": [
    {
     "name": "stdout",
     "output_type": "stream",
     "text": [
      "[0.79166667 0.75       0.66666667 0.66666667 0.70833333 0.70833333\n",
      " 0.75       0.625      0.58333333 0.66666667]\n",
      "0.6916666666666667\n"
     ]
    }
   ],
   "source": [
    "from sklearn.ensemble import RandomForestClassifier\n",
    "clf = RandomForestClassifier()\n",
    "from sklearn.model_selection import cross_val_score\n",
    "score = cross_val_score(clf, xList, yList, cv=10)\n",
    "print(score)\n",
    "print(score.mean())"
   ]
  },
  {
   "cell_type": "code",
   "execution_count": 9,
   "metadata": {},
   "outputs": [
    {
     "name": "stdout",
     "output_type": "stream",
     "text": [
      "[0.75       0.70833333 0.54166667 0.66666667 0.66666667 0.66666667\n",
      " 0.79166667 0.54166667 0.66666667 0.79166667]\n",
      "0.6791666666666668\n"
     ]
    }
   ],
   "source": [
    "clf1 = RandomForestClassifier(random_state=1)\n",
    "clf2 = GradientBoostingClassifier()\n",
    "clf3 = LinearDiscriminantAnalysis()\n",
    "eclf1 = VotingClassifier(estimators=[('rf', clf1), ('gb', clf2), ('lda', clf3)], voting='hard')\n",
    "score = cross_val_score(clf, xList, yList, cv=10)\n",
    "print(score)\n",
    "print(score.mean())"
   ]
  },
  {
   "cell_type": "code",
   "execution_count": 10,
   "metadata": {},
   "outputs": [
    {
     "name": "stdout",
     "output_type": "stream",
     "text": [
      "==============================\n",
      "KNeighborsClassifier\n",
      "****Results****\n",
      "Accuracy: 70.8333%\n",
      "Log Loss: 7.456073234707138\n",
      "MeanCVScore: 0.6458333333333333\n",
      "10FoldCVScore: [0.7083333333333334, 0.6666666666666666, 0.6666666666666666, 0.5416666666666666, 0.75, 0.625, 0.6666666666666666, 0.625, 0.625, 0.5833333333333334]\n",
      "sensitivity: 0.6458333333333333\n",
      "specificity: 0.8229166666666666\n",
      "f1-score: 0.6461202777843644\n",
      "==============================\n",
      "SVC\n",
      "****Results****\n",
      "Accuracy: 72.9167%\n",
      "Log Loss: 0.5683267614839965\n",
      "MeanCVScore: 0.7083333333333333\n",
      "10FoldCVScore: [0.7083333333333334, 0.625, 0.75, 0.75, 0.7916666666666666, 0.75, 0.7083333333333334, 0.625, 0.6666666666666666, 0.7083333333333334]\n",
      "sensitivity: 0.7083333333333333\n",
      "specificity: 0.8541666666666666\n",
      "f1-score: 0.7086016511867905\n",
      "==============================\n",
      "DecisionTreeClassifier\n",
      "****Results****\n",
      "Accuracy: 52.0833%\n",
      "Log Loss: 16.549830355894702\n",
      "MeanCVScore: 0.6875000000000001\n",
      "10FoldCVScore: [0.6666666666666666, 0.5, 0.7083333333333334, 0.75, 0.7083333333333334, 0.625, 0.75, 0.75, 0.625, 0.7916666666666666]\n",
      "sensitivity: 0.6875000000000001\n",
      "specificity: 0.84375\n",
      "f1-score: 0.6861685006886244\n",
      "==============================\n",
      "RandomForestClassifier\n",
      "****Results****\n",
      "Accuracy: 70.8333%\n",
      "Log Loss: 0.541975516201556\n",
      "MeanCVScore: 0.6708333333333333\n",
      "10FoldCVScore: [0.6666666666666666, 0.6666666666666666, 0.625, 0.7083333333333334, 0.7083333333333334, 0.625, 0.7083333333333334, 0.5833333333333334, 0.6666666666666666, 0.75]\n",
      "sensitivity: 0.6708333333333333\n",
      "specificity: 0.8354166666666668\n",
      "f1-score: 0.6653025723846159\n",
      "==============================\n",
      "AdaBoostClassifier\n",
      "****Results****\n",
      "Accuracy: 58.3333%\n",
      "Log Loss: 0.6774826969149158\n",
      "MeanCVScore: 0.6375\n",
      "10FoldCVScore: [0.6666666666666666, 0.5416666666666666, 0.6666666666666666, 0.5416666666666666, 0.7083333333333334, 0.6666666666666666, 0.7916666666666666, 0.625, 0.5833333333333334, 0.5833333333333334]\n",
      "sensitivity: 0.6375\n",
      "specificity: 0.81875\n",
      "f1-score: 0.6387029319150062\n",
      "==============================\n",
      "GradientBoostingClassifier\n",
      "****Results****\n",
      "Accuracy: 68.7500%\n",
      "Log Loss: 0.8410294290653461\n",
      "MeanCVScore: 0.7166666666666667\n",
      "10FoldCVScore: [0.8333333333333334, 0.625, 0.625, 0.7083333333333334, 0.8333333333333334, 0.5833333333333334, 0.75, 0.6666666666666666, 0.7083333333333334, 0.8333333333333334]\n",
      "sensitivity: 0.7166666666666667\n",
      "specificity: 0.8583333333333334\n",
      "f1-score: 0.7131768145854832\n",
      "==============================\n",
      "GaussianNB\n",
      "****Results****\n",
      "Accuracy: 60.4167%\n",
      "Log Loss: 13.671598989652146\n",
      "MeanCVScore: 0.5583333333333333\n",
      "10FoldCVScore: [0.625, 0.5833333333333334, 0.5416666666666666, 0.5833333333333334, 0.625, 0.5416666666666666, 0.4583333333333333, 0.5416666666666666, 0.5833333333333334, 0.5]\n",
      "sensitivity: 0.5583333333333333\n",
      "specificity: 0.7791666666666667\n",
      "f1-score: 0.502902333118872\n",
      "==============================\n",
      "LinearDiscriminantAnalysis\n",
      "****Results****\n",
      "Accuracy: 75.0000%\n",
      "Log Loss: 0.46833687691753073\n",
      "MeanCVScore: 0.6875\n",
      "10FoldCVScore: [0.75, 0.75, 0.7916666666666666, 0.7083333333333334, 0.7083333333333334, 0.6666666666666666, 0.6666666666666666, 0.5833333333333334, 0.5416666666666666, 0.7083333333333334]\n",
      "sensitivity: 0.6875\n",
      "specificity: 0.84375\n",
      "f1-score: 0.6872774035390136\n",
      "==============================\n",
      "QuadraticDiscriminantAnalysis\n",
      "****Results****\n",
      "Accuracy: 39.5833%\n",
      "Log Loss: 20.867177405258538\n",
      "MeanCVScore: 0.4\n",
      "10FoldCVScore: [0.3333333333333333, 0.375, 0.4166666666666667, 0.2916666666666667, 0.2916666666666667, 0.5416666666666666, 0.5, 0.5, 0.375, 0.375]\n",
      "sensitivity: 0.4\n",
      "specificity: 0.7\n",
      "f1-score: 0.3721206369496853\n",
      "==============================\n"
     ]
    }
   ],
   "source": [
    "classifiers = [\n",
    "    KNeighborsClassifier(3),\n",
    "    SVC(kernel=\"linear\", probability=True),\n",
    "    #NuSVC(probability=True),\n",
    "    DecisionTreeClassifier(),\n",
    "    RandomForestClassifier(random_state=1),\n",
    "    AdaBoostClassifier(),\n",
    "    GradientBoostingClassifier(),\n",
    "    GaussianNB(),\n",
    "    LinearDiscriminantAnalysis(),\n",
    "    QuadraticDiscriminantAnalysis()]\n",
    "\n",
    "# Logging for Visual Comparison\n",
    "log_cols=[\"Classifier\", \"Accuracy\", \"Log Loss\"]\n",
    "log = pd.DataFrame(columns=log_cols)\n",
    "\n",
    "for clf in classifiers:\n",
    "    clf.fit(X_train, y_train)\n",
    "    name = clf.__class__.__name__\n",
    "    \n",
    "    print(\"=\"*30)\n",
    "    print(name)\n",
    "    \n",
    "    print('****Results****')\n",
    "    train_predictions = clf.predict(X_test)\n",
    "    acc = accuracy_score(y_test, train_predictions)\n",
    "    print(\"Accuracy: {:.4%}\".format(acc))\n",
    "    \n",
    "    train_predictions = clf.predict_proba(X_test)\n",
    "    ll = log_loss(y_test, train_predictions)\n",
    "    print(\"Log Loss: {}\".format(ll))\n",
    "    \n",
    "    log_entry = pd.DataFrame([[name, acc*100, ll]], columns=log_cols)\n",
    "    log = log.append(log_entry)\n",
    "    \n",
    "    ######################### perform 10 fold validation ######################\n",
    "    kf = StratifiedKFold(n_splits=10)\n",
    "    scorelist = []\n",
    "    sensitivity = []\n",
    "    specificity = []\n",
    "    f1 = []\n",
    "    for train_index, test_index in kf.split(xList, yList):\n",
    "        clf.fit(xList[train_index], yList[train_index])\n",
    "        p = clf.predict(xList[test_index])\n",
    "        accval = accuracy_score(yList[test_index], p)\n",
    "        scorelist.append(accval)\n",
    "        sss = sensitivity_specificity_support(yList[test_index], p, average='macro')\n",
    "        sensitivity.append(sss[0])\n",
    "        specificity.append(sss[1])\n",
    "        f1.append(f1_score(yList[test_index], p, average='macro') )\n",
    "\n",
    "        \n",
    "    print(\"MeanCVScore: {}\".format(sum(scorelist)/len(scorelist)))\n",
    "    print(\"10FoldCVScore: {}\".format(scorelist))\n",
    "    print(\"sensitivity: {}\".format(sum(sensitivity)/len(sensitivity)))\n",
    "    print(\"specificity: {}\".format(sum(specificity)/len(specificity)))\n",
    "    print(\"f1-score: {}\".format(sum(f1)/len(f1)))\n",
    "\n",
    "    #############################################################################\n",
    "    \n",
    "print(\"=\"*30)"
   ]
  },
  {
   "cell_type": "code",
   "execution_count": 11,
   "metadata": {
    "collapsed": true
   },
   "outputs": [],
   "source": [
    "# clf1 = RandomForestClassifier(random_state=1)\n",
    "# clf2 = GradientBoostingClassifier()\n",
    "# clf3 = LinearDiscriminantAnalysis()\n",
    "# eclf1 = VotingClassifier(estimators=[('rf', clf1), ('gb', clf2), ('lda', clf3)], voting='hard')\n",
    "# score = cross_val_score(clf, xList, yList, cv=10)\n",
    "# print(score)\n",
    "# print(score.mean())"
   ]
  },
  {
   "cell_type": "code",
   "execution_count": 12,
   "metadata": {
    "collapsed": true
   },
   "outputs": [],
   "source": [
    "# cm1 = confusion_matrix(yList[test_index],p)\n",
    "# print('Confusion Matrix : \\n', cm1)\n",
    "\n",
    "# total1=sum(sum(cm1))\n",
    "# #####from confusion matrix calculate accuracy\n",
    "# accuracy1=(cm1[0,0]+cm1[1,1])/total1\n",
    "# print ('Accuracy : ', accuracy1)\n",
    "\n",
    "# sensitivity1 = cm1[0,0]/(cm1[0,0]+cm1[0,1])\n",
    "# print('Sensitivity : ', sensitivity1 )\n",
    "\n",
    "# specificity1 = cm1[1,1]/(cm1[1,0]+cm1[1,1])\n",
    "# print('Specificity : ', specificity1)\n",
    "\n",
    "# print(classification_report(yList[test_index], p))\n",
    "    \n",
    "# score = cross_val_score(clf, xList, yList, cv=10)\n",
    "# print(\"MeanCVScore: {}\".format(score.mean()))\n",
    "# print(\"10FoldCVScore: {}\".format(score))"
   ]
  },
  {
   "cell_type": "code",
   "execution_count": 13,
   "metadata": {
    "collapsed": true
   },
   "outputs": [],
   "source": [
    "# feaPath = '../xprmt/feature/extract-slbp-melanoma_binary_augmented-mlbox-20181117-151136/melanoma_binary_augmented'\n",
    "\n",
    "# xListL = []\n",
    "# yListL = []\n",
    "# yLi = os.listdir(feaPath)\n",
    "# sumdat = 0\n",
    "# for i in yLi:\n",
    "#     file = os.listdir(feaPath+ \"/\" + i)\n",
    "#     cnt = 0\n",
    "#     for j in file:\n",
    "#         if j.endswith('.pkl'):\n",
    "#             #print(j)\n",
    "#             x = joblib.load(feaPath + \"/\" + i + \"/\" +j)\n",
    "#             xListL.append(x)\n",
    "#             yListL.append(i)\n",
    "#             cnt += 1\n",
    "#     print(str(i) + \" \" + str(cnt))\n",
    "#     sumdat += cnt\n",
    "# print(\"semuanya \"+ str(sumdat))\n",
    "# feaPath = '../xprmt/feature/extract-haralick-melanoma_binary_augmented-mlbox-20181117-151626/melanoma_binary_augmented'\n",
    "\n",
    "# xListH = []\n",
    "# yListH = []\n",
    "# yLi = os.listdir(feaPath)\n",
    "# sumdat = 0\n",
    "# for i in yLi:\n",
    "#     file = os.listdir(feaPath+ \"/\" + i)\n",
    "#     cnt = 0\n",
    "#     for j in file:\n",
    "#         if j.endswith('.pkl'):\n",
    "#             #print(j)\n",
    "#             x = joblib.load(feaPath + \"/\" + i + \"/\" +j)\n",
    "#             xListH.append(x)\n",
    "#             yListH.append(i)\n",
    "#             cnt += 1\n",
    "#     print(str(i) + \" \" + str(cnt))\n",
    "#     sumdat += cnt\n",
    "# print(\"semuanya \"+ str(sumdat))\n",
    "# feaPath = '../xprmt/feature/extract-wtio-melanoma_binary_augmented-mlbox-20181117-145744/melanoma_binary_augmented'\n",
    "\n",
    "# xListW = []\n",
    "# yListW = []\n",
    "# yLi = os.listdir(feaPath)\n",
    "# sumdat = 0\n",
    "# for i in yLi:\n",
    "#     file = os.listdir(feaPath+ \"/\" + i)\n",
    "#     cnt = 0\n",
    "#     for j in file:\n",
    "#         if j.endswith('.pkl'):\n",
    "#             #print(j)\n",
    "#             x = joblib.load(feaPath + \"/\" + i + \"/\" +j)\n",
    "#             xListW.append(x)\n",
    "#             yListW.append(i)\n",
    "#             cnt += 1\n",
    "#     print(str(i) + \" \" + str(cnt))\n",
    "#     sumdat += cnt\n",
    "# print(\"semuanya \"+ str(sumdat))\n",
    "# xListL = np.array(xListL)\n",
    "# xListH = np.array(xListH)\n",
    "# xListW = np.array(xListW)\n",
    "# xList1 = np.concatenate((xListL, xListH, xListW), axis=1)\n",
    "# #xList = np.concatenate((xListL, xListW), axis=1)\n",
    "# print(yListL == yListH)\n",
    "# print(yListH == yListW)\n",
    "# yList1 = yListL"
   ]
  },
  {
   "cell_type": "code",
   "execution_count": null,
   "metadata": {
    "collapsed": true
   },
   "outputs": [],
   "source": []
  }
 ],
 "metadata": {
  "kernelspec": {
   "display_name": "Python [conda env:fastai]",
   "language": "python",
   "name": "conda-env-fastai-py"
  },
  "language_info": {
   "codemirror_mode": {
    "name": "ipython",
    "version": 3
   },
   "file_extension": ".py",
   "mimetype": "text/x-python",
   "name": "python",
   "nbconvert_exporter": "python",
   "pygments_lexer": "ipython3",
   "version": "3.6.4"
  }
 },
 "nbformat": 4,
 "nbformat_minor": 2
}
