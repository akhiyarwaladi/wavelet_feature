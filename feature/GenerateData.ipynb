{
 "cells": [
  {
   "cell_type": "code",
   "execution_count": 7,
   "metadata": {},
   "outputs": [],
   "source": [
    "from keras.preprocessing.image import ImageDataGenerator\n",
    "from scipy import ndimage\n",
    "import numpy as np\n",
    "import os, random\n",
    "import shutil"
   ]
  },
  {
   "cell_type": "code",
   "execution_count": 8,
   "metadata": {
    "collapsed": true
   },
   "outputs": [],
   "source": [
    "dir_path = '/home/akhiyar/Software/dataset/arara-classify/DataPH2_lesion_hairremove/Melanoma'\n",
    "save_here = '/home/akhiyar/Software/dataset/arara-classify/Generate_' + str(dir_path.split(\"/\")[-2])\n",
    "if os.path.exists(save_here):\n",
    "    shutil.rmtree(save_here)\n",
    "os.makedirs(save_here)\n",
    "datagen = ImageDataGenerator(rotation_range=10, width_shift_range=0.1, height_shift_range=0.1,\n",
    "            shear_range=0.15, zoom_range=0.1,channel_shift_range = 10, horizontal_flip=True)"
   ]
  },
  {
   "cell_type": "code",
   "execution_count": 9,
   "metadata": {},
   "outputs": [
    {
     "name": "stdout",
     "output_type": "stream",
     "text": [
      "/home/akhiyar/Software/dataset/arara-classify/DataPH2_lesion_hairremove/Melanoma/IMD409_crop.bmp\n"
     ]
    },
    {
     "name": "stderr",
     "output_type": "stream",
     "text": [
      "/home/akhiyar/anaconda3/envs/fastai/lib/python3.6/site-packages/ipykernel/__main__.py:4: DeprecationWarning: `imread` is deprecated!\n",
      "`imread` is deprecated in SciPy 1.0.0.\n",
      "Use ``matplotlib.pyplot.imread`` instead.\n"
     ]
    }
   ],
   "source": [
    "for idx in range(1):\n",
    "    image_path = os.path.join(dir_path, random.choice(os.listdir(dir_path)))\n",
    "    print(image_path)\n",
    "    image = np.expand_dims(ndimage.imread(image_path), 0)\n",
    "\n",
    "    datagen.fit(image)\n",
    "\n",
    "    for x, val in zip(datagen.flow(image,  # image we chose\n",
    "        save_to_dir=save_here,             # this is where we figure out where to save\n",
    "        save_prefix='aug',                 # it will save the images as 'aug_0912' some number for every new augmented image\n",
    "        save_format='jpg'),range(4)) :     # here we define a range because we want 10 augmented images otherwise it will keep looping forever I think\n",
    "        pass"
   ]
  },
  {
   "cell_type": "code",
   "execution_count": null,
   "metadata": {
    "collapsed": true
   },
   "outputs": [],
   "source": []
  },
  {
   "cell_type": "code",
   "execution_count": null,
   "metadata": {
    "collapsed": true
   },
   "outputs": [],
   "source": []
  }
 ],
 "metadata": {
  "kernelspec": {
   "display_name": "Python [conda env:fastai]",
   "language": "python",
   "name": "conda-env-fastai-py"
  },
  "language_info": {
   "codemirror_mode": {
    "name": "ipython",
    "version": 3
   },
   "file_extension": ".py",
   "mimetype": "text/x-python",
   "name": "python",
   "nbconvert_exporter": "python",
   "pygments_lexer": "ipython3",
   "version": "3.6.4"
  }
 },
 "nbformat": 4,
 "nbformat_minor": 2
}
