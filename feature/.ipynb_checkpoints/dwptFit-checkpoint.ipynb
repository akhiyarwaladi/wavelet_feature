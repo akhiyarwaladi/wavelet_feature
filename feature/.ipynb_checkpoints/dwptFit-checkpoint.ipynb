{
 "cells": [
  {
   "cell_type": "code",
   "execution_count": 1,
   "metadata": {},
   "outputs": [],
   "source": [
    "import os\n",
    "import sys\n",
    "import time\n",
    "import datetime\n",
    "import socket\n",
    "import yaml\n",
    "import shutil\n",
    "from sklearn.externals import joblib \n",
    "\n",
    "feaName = 'wtio'\n",
    "sys.path.append('./wavelet/wtio'); import wtio\n",
    "extractor = wtio"
   ]
  },
  {
   "cell_type": "code",
   "execution_count": 2,
   "metadata": {},
   "outputs": [
    {
     "name": "stdout",
     "output_type": "stream",
     "text": [
      "bercak-bulat 328\n",
      "sehat 247\n",
      "bercak-garis 328\n",
      "semuanya 903\n"
     ]
    }
   ],
   "source": [
    "#feaPath = '../xprmt/feature/extract-wtio-eomf-mlbox-20180924-124821/eomf'\n",
    "feaPath = '../xprmt/feature/extract-wtio-acacia-crassicarpa-mlbox-20180926-001202/acacia-crassicarpa'\n",
    "\n",
    "xList = []\n",
    "yList = []\n",
    "yLi = os.listdir(feaPath)\n",
    "sumdat = 0\n",
    "for i in yLi:\n",
    "    file = os.listdir(feaPath+ \"/\" + i)\n",
    "    cnt = 0\n",
    "    for j in file:\n",
    "        if j.endswith('.pkl'):\n",
    "            #print(j)\n",
    "            x = joblib.load(feaPath + \"/\" + i + \"/\" +j)\n",
    "            xList.append(x)\n",
    "            yList.append(i)\n",
    "            cnt += 1\n",
    "    print(str(i) + \" \" + str(cnt))\n",
    "    sumdat += cnt\n",
    "print(\"semuanya \"+ str(sumdat))\n",
    "    "
   ]
  },
  {
   "cell_type": "code",
   "execution_count": 3,
   "metadata": {},
   "outputs": [],
   "source": [
    "import numpy as np\n",
    "xList = np.array(xList)\n",
    "yList = np.array(yList)"
   ]
  },
  {
   "cell_type": "code",
   "execution_count": 4,
   "metadata": {},
   "outputs": [
    {
     "name": "stdout",
     "output_type": "stream",
     "text": [
      "903\n",
      "903\n"
     ]
    }
   ],
   "source": [
    "print(len(xList))\n",
    "print(len(yList))"
   ]
  },
  {
   "cell_type": "code",
   "execution_count": 5,
   "metadata": {},
   "outputs": [
    {
     "name": "stdout",
     "output_type": "stream",
     "text": [
      "722\n",
      "181\n"
     ]
    }
   ],
   "source": [
    "from sklearn.model_selection import train_test_split\n",
    "X_train, X_test, y_train, y_test = train_test_split(xList, yList, random_state = 42, test_size = 0.2)\n",
    "print(len(X_train))\n",
    "print(len(X_test))"
   ]
  },
  {
   "cell_type": "code",
   "execution_count": 6,
   "metadata": {},
   "outputs": [
    {
     "data": {
      "text/plain": [
       "(722, 2040)"
      ]
     },
     "execution_count": 6,
     "metadata": {},
     "output_type": "execute_result"
    }
   ],
   "source": [
    "X_train.shape"
   ]
  },
  {
   "cell_type": "code",
   "execution_count": 7,
   "metadata": {},
   "outputs": [
    {
     "data": {
      "text/plain": [
       "RandomForestClassifier(bootstrap=True, class_weight=None, criterion='gini',\n",
       "            max_depth=None, max_features='auto', max_leaf_nodes=None,\n",
       "            min_impurity_decrease=0.0, min_impurity_split=None,\n",
       "            min_samples_leaf=1, min_samples_split=2,\n",
       "            min_weight_fraction_leaf=0.0, n_estimators=10, n_jobs=1,\n",
       "            oob_score=False, random_state=None, verbose=0,\n",
       "            warm_start=False)"
      ]
     },
     "execution_count": 7,
     "metadata": {},
     "output_type": "execute_result"
    }
   ],
   "source": [
    "from sklearn.ensemble import RandomForestClassifier\n",
    "clf = RandomForestClassifier()\n",
    "clf.fit(X_train, y_train)"
   ]
  },
  {
   "cell_type": "code",
   "execution_count": 8,
   "metadata": {},
   "outputs": [
    {
     "name": "stdout",
     "output_type": "stream",
     "text": [
      "0.8011049723756906\n"
     ]
    }
   ],
   "source": [
    "prediksi = clf.predict(X_test)\n",
    "from sklearn.metrics import accuracy_score\n",
    "print(accuracy_score(y_test, prediksi))"
   ]
  },
  {
   "cell_type": "code",
   "execution_count": 9,
   "metadata": {},
   "outputs": [
    {
     "name": "stdout",
     "output_type": "stream",
     "text": [
      "[0.86813187 0.82417582 0.76923077 0.79120879 0.73626374 0.8021978\n",
      " 0.83516484 0.78888889 0.88636364 0.81818182]\n"
     ]
    }
   ],
   "source": [
    "from sklearn.model_selection import cross_val_score\n",
    "print(cross_val_score(clf, xList, yList, cv=10))"
   ]
  },
  {
   "cell_type": "code",
   "execution_count": 10,
   "metadata": {},
   "outputs": [
    {
     "name": "stdout",
     "output_type": "stream",
     "text": [
      "==============================\n",
      "KNeighborsClassifier\n",
      "****Results****\n",
      "Accuracy: 72.9282%\n",
      "Log Loss: 2.857881166668803\n",
      "MeanCVScore: 0.617875457875458\n",
      "10FoldCVScore: [0.6483516483516484, 0.6923076923076923, 0.5714285714285714, 0.7777777777777778, 0.7777777777777778, 0.7, 0.6333333333333333, 0.37777777777777777, 0.5444444444444444, 0.45555555555555555]\n",
      "==============================\n",
      "SVC\n",
      "****Results****\n",
      "Accuracy: 58.5635%\n",
      "Log Loss: 0.8022584252687502\n",
      "MeanCVScore: 0.1811111111111111\n",
      "10FoldCVScore: [0.0, 0.0, 0.0, 0.32222222222222224, 0.6111111111111112, 0.5666666666666667, 0.3111111111111111, 0.0, 0.0, 0.0]\n",
      "==============================\n",
      "NuSVC\n",
      "****Results****\n",
      "Accuracy: 85.0829%\n",
      "Log Loss: 0.4696157765125361\n",
      "MeanCVScore: 0.7288400488400487\n",
      "10FoldCVScore: [0.6593406593406593, 0.7032967032967034, 0.6813186813186813, 0.8333333333333334, 0.7, 0.6111111111111112, 0.8444444444444444, 0.5888888888888889, 0.8, 0.8666666666666667]\n",
      "==============================\n",
      "DecisionTreeClassifier\n",
      "****Results****\n",
      "Accuracy: 82.3204%\n",
      "Log Loss: 6.106303009044983\n",
      "MeanCVScore: 0.7078754578754578\n",
      "10FoldCVScore: [0.6923076923076923, 0.5824175824175825, 0.6373626373626373, 0.6888888888888889, 0.7555555555555555, 0.7666666666666667, 0.7888888888888889, 0.6111111111111112, 0.7888888888888889, 0.7666666666666667]\n",
      "==============================\n",
      "RandomForestClassifier\n",
      "****Results****\n",
      "Accuracy: 86.7403%\n",
      "Log Loss: 0.776141236718596\n",
      "MeanCVScore: 0.7288522588522589\n",
      "10FoldCVScore: [0.7472527472527473, 0.6483516483516484, 0.6373626373626373, 0.8333333333333334, 0.7555555555555555, 0.8333333333333334, 0.8222222222222222, 0.6111111111111112, 0.7222222222222222, 0.6777777777777778]\n",
      "==============================\n",
      "AdaBoostClassifier\n",
      "****Results****\n",
      "Accuracy: 75.6906%\n",
      "Log Loss: 0.9256552567022464\n",
      "MeanCVScore: 0.6524542124542124\n",
      "10FoldCVScore: [0.6263736263736264, 0.5934065934065934, 0.5714285714285714, 0.5777777777777777, 0.7555555555555555, 0.7555555555555555, 0.8, 0.5888888888888889, 0.6333333333333333, 0.6222222222222222]\n",
      "==============================\n",
      "GradientBoostingClassifier\n",
      "****Results****\n",
      "Accuracy: 88.9503%\n",
      "Log Loss: 0.2910281449052669\n",
      "MeanCVScore: 0.836190476190476\n",
      "10FoldCVScore: [0.8461538461538461, 0.8241758241758241, 0.7582417582417582, 0.8777777777777778, 0.8666666666666667, 0.8444444444444444, 0.8777777777777778, 0.7111111111111111, 0.8555555555555555, 0.9]\n",
      "==============================\n",
      "GaussianNB\n",
      "****Results****\n",
      "Accuracy: 67.9558%\n",
      "Log Loss: 10.59808889685561\n",
      "MeanCVScore: 0.6604029304029304\n",
      "10FoldCVScore: [0.5274725274725275, 0.5384615384615384, 0.5714285714285714, 0.7, 0.8555555555555555, 0.8444444444444444, 0.7555555555555555, 0.4777777777777778, 0.6222222222222222, 0.7111111111111111]\n"
     ]
    },
    {
     "name": "stderr",
     "output_type": "stream",
     "text": [
      "/home/akhiyar/anaconda3/envs/fastai/lib/python3.6/site-packages/sklearn/discriminant_analysis.py:388: UserWarning: Variables are collinear.\n",
      "  warnings.warn(\"Variables are collinear.\")\n"
     ]
    },
    {
     "name": "stdout",
     "output_type": "stream",
     "text": [
      "==============================\n",
      "LinearDiscriminantAnalysis\n",
      "****Results****\n",
      "Accuracy: 86.1878%\n",
      "Log Loss: 1.1683288259001654\n"
     ]
    },
    {
     "name": "stderr",
     "output_type": "stream",
     "text": [
      "/home/akhiyar/anaconda3/envs/fastai/lib/python3.6/site-packages/sklearn/discriminant_analysis.py:442: UserWarning: The priors do not sum to 1. Renormalizing\n",
      "  UserWarning)\n"
     ]
    },
    {
     "name": "stdout",
     "output_type": "stream",
     "text": [
      "MeanCVScore: 0.7885225885225884\n",
      "10FoldCVScore: [0.8461538461538461, 0.7472527472527473, 0.7362637362637363, 0.7666666666666667, 0.7888888888888889, 0.7555555555555555, 0.8333333333333334, 0.7666666666666667, 0.7888888888888889, 0.8555555555555555]\n",
      "==============================\n",
      "QuadraticDiscriminantAnalysis\n",
      "****Results****\n",
      "Accuracy: 38.1215%\n",
      "Log Loss: 21.37206053165744\n"
     ]
    },
    {
     "name": "stderr",
     "output_type": "stream",
     "text": [
      "/home/akhiyar/anaconda3/envs/fastai/lib/python3.6/site-packages/sklearn/discriminant_analysis.py:682: UserWarning: Variables are collinear\n",
      "  warnings.warn(\"Variables are collinear\")\n"
     ]
    },
    {
     "name": "stdout",
     "output_type": "stream",
     "text": [
      "MeanCVScore: 0.31445665445665444\n",
      "10FoldCVScore: [0.24175824175824176, 0.37362637362637363, 0.37362637362637363, 0.26666666666666666, 0.3, 0.2111111111111111, 0.25555555555555554, 0.3888888888888889, 0.36666666666666664, 0.36666666666666664]\n",
      "==============================\n"
     ]
    }
   ],
   "source": [
    "from sklearn.metrics import accuracy_score, log_loss\n",
    "from sklearn.neighbors import KNeighborsClassifier\n",
    "from sklearn.svm import SVC, LinearSVC, NuSVC\n",
    "from sklearn.tree import DecisionTreeClassifier\n",
    "from sklearn.ensemble import RandomForestClassifier, AdaBoostClassifier, GradientBoostingClassifier\n",
    "from sklearn.naive_bayes import GaussianNB\n",
    "from sklearn.discriminant_analysis import LinearDiscriminantAnalysis\n",
    "from sklearn.discriminant_analysis import QuadraticDiscriminantAnalysis\n",
    "import pandas as pd\n",
    "from sklearn.model_selection import cross_val_score, KFold\n",
    "\n",
    "classifiers = [\n",
    "    KNeighborsClassifier(3),\n",
    "    SVC(kernel=\"rbf\", C=0.025, probability=True),\n",
    "    NuSVC(probability=True),\n",
    "    DecisionTreeClassifier(),\n",
    "    RandomForestClassifier(),\n",
    "    AdaBoostClassifier(),\n",
    "    GradientBoostingClassifier(),\n",
    "    GaussianNB(),\n",
    "    LinearDiscriminantAnalysis(),\n",
    "    QuadraticDiscriminantAnalysis()]\n",
    "\n",
    "# Logging for Visual Comparison\n",
    "log_cols=[\"Classifier\", \"Accuracy\", \"Log Loss\"]\n",
    "log = pd.DataFrame(columns=log_cols)\n",
    "\n",
    "for clf in classifiers:\n",
    "    clf.fit(X_train, y_train)\n",
    "    name = clf.__class__.__name__\n",
    "    \n",
    "    print(\"=\"*30)\n",
    "    print(name)\n",
    "    \n",
    "    print('****Results****')\n",
    "    train_predictions = clf.predict(X_test)\n",
    "    acc = accuracy_score(y_test, train_predictions)\n",
    "    print(\"Accuracy: {:.4%}\".format(acc))\n",
    "    \n",
    "    train_predictions = clf.predict_proba(X_test)\n",
    "    ll = log_loss(y_test, train_predictions)\n",
    "    print(\"Log Loss: {}\".format(ll))\n",
    "    \n",
    "    log_entry = pd.DataFrame([[name, acc*100, ll]], columns=log_cols)\n",
    "    log = log.append(log_entry)\n",
    "    \n",
    "    ########################## perform 10 fold validation ######################\n",
    "    kf = KFold(n_splits=10)\n",
    "    scorelist = []\n",
    "    for train_index, test_index in kf.split(xList):\n",
    "        clf.fit(xList[train_index], yList[train_index])\n",
    "        p = clf.predict(xList[test_index])\n",
    "        accval = accuracy_score(yList[test_index], p)\n",
    "        scorelist.append(accval)\n",
    "    \n",
    "    print(\"MeanCVScore: {}\".format(sum(scorelist)/len(scorelist)))\n",
    "    print(\"10FoldCVScore: {}\".format(scorelist))\n",
    "    #############################################################################\n",
    "    \n",
    "print(\"=\"*30)"
   ]
  }
 ],
 "metadata": {
  "kernelspec": {
   "display_name": "Python [conda env:fastai]",
   "language": "python",
   "name": "conda-env-fastai-py"
  },
  "language_info": {
   "codemirror_mode": {
    "name": "ipython",
    "version": 3
   },
   "file_extension": ".py",
   "mimetype": "text/x-python",
   "name": "python",
   "nbconvert_exporter": "python",
   "pygments_lexer": "ipython3",
   "version": "3.6.4"
  }
 },
 "nbformat": 4,
 "nbformat_minor": 2
}
