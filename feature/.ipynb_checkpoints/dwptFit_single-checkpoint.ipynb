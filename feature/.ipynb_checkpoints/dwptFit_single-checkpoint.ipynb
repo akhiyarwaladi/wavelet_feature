{
 "cells": [
  {
   "cell_type": "code",
   "execution_count": 49,
   "metadata": {
    "collapsed": true
   },
   "outputs": [],
   "source": [
    "import os\n",
    "import sys\n",
    "import time\n",
    "import datetime\n",
    "import socket\n",
    "import yaml\n",
    "import shutil\n",
    "\n",
    "import pandas as pd\n",
    "import numpy as np\n",
    "\n",
    "from sklearn.externals import joblib \n",
    "\n",
    "from sklearn.metrics import accuracy_score, log_loss, f1_score, confusion_matrix, classification_report\n",
    "from sklearn.neighbors import KNeighborsClassifier\n",
    "from sklearn.svm import SVC, LinearSVC, NuSVC\n",
    "from sklearn.tree import DecisionTreeClassifier\n",
    "from sklearn.ensemble import RandomForestClassifier, AdaBoostClassifier, GradientBoostingClassifier, VotingClassifier\n",
    "from sklearn.naive_bayes import GaussianNB\n",
    "from sklearn.discriminant_analysis import LinearDiscriminantAnalysis, QuadraticDiscriminantAnalysis\n",
    "from sklearn.model_selection import cross_val_score, KFold, StratifiedKFold\n",
    "\n",
    "import warnings\n",
    "warnings.simplefilter(action='ignore', category=FutureWarning)\n",
    "warnings.simplefilter(action='ignore', category=UserWarning)"
   ]
  },
  {
   "cell_type": "code",
   "execution_count": 50,
   "metadata": {},
   "outputs": [
    {
     "name": "stdout",
     "output_type": "stream",
     "text": [
      "../xprmt/feature/extract-haralick-melanoma_binary_augmented-mlbox-20181117-151626/melanoma_binary_augmented\n",
      "NonMelanoma 160\n",
      "Melanoma 160\n",
      "semuanya 320\n",
      "../xprmt/feature/extract-slbp-melanoma_binary_augmented-mlbox-20181117-151136/melanoma_binary_augmented\n",
      "NonMelanoma 160\n",
      "Melanoma 160\n",
      "semuanya 320\n",
      "../xprmt/feature/extract-wtio-melanoma_binary_augmented-mlbox-20181117-145744/melanoma_binary_augmented\n",
      "NonMelanoma 160\n",
      "Melanoma 160\n",
      "semuanya 320\n"
     ]
    }
   ],
   "source": [
    "folderFeature = 'feature'\n",
    "feaPaths = ['../xprmt/'+folderFeature+'/extract-haralick-melanoma_binary_augmented-mlbox-20181117-151626/melanoma_binary_augmented',\n",
    "           '../xprmt/'+folderFeature+'/extract-slbp-melanoma_binary_augmented-mlbox-20181117-151136/melanoma_binary_augmented',\n",
    "           '../xprmt/'+folderFeature+'/extract-wtio-melanoma_binary_augmented-mlbox-20181117-145744/melanoma_binary_augmented',\n",
    "          ]\n",
    "\n",
    "featureList = []\n",
    "labelList = []\n",
    "for feaPath in feaPaths:\n",
    "    print(feaPath)\n",
    "    xListL = []\n",
    "    yListL = []\n",
    "    yLi = os.listdir(feaPath)\n",
    "    sumdat = 0\n",
    "    for i in yLi:\n",
    "        file = os.listdir(feaPath+ \"/\" + i)\n",
    "        cnt = 0\n",
    "        for j in file:\n",
    "            if j.endswith('.pkl'):\n",
    "                #print(j)\n",
    "                x = joblib.load(feaPath + \"/\" + i + \"/\" +j)\n",
    "                xListL.append(x)\n",
    "                yListL.append(i)\n",
    "                cnt += 1\n",
    "        print(str(i) + \" \" + str(cnt))\n",
    "        sumdat += cnt\n",
    "    \n",
    "    print(\"semuanya \"+ str(sumdat))\n",
    "    featureList.append(xListL)\n",
    "    labelList.append(yListL)\n",
    "\n",
    "xList = np.concatenate((featureList[0], featureList[1]), axis=1)\n",
    "for idx in range(len(featureList)-2):\n",
    "    xList = np.concatenate((xList, featureList[idx+2]), axis=1)\n",
    "\n",
    "xList1 = xList\n",
    "yList1 = labelList[0]"
   ]
  },
  {
   "cell_type": "code",
   "execution_count": 51,
   "metadata": {},
   "outputs": [
    {
     "name": "stdout",
     "output_type": "stream",
     "text": [
      "(320, 2079)\n",
      "(320,)\n"
     ]
    }
   ],
   "source": [
    "xList = np.array(xList1)\n",
    "yList = np.array(yList1)\n",
    "print(xList.shape)\n",
    "print(yList.shape)"
   ]
  },
  {
   "cell_type": "code",
   "execution_count": 52,
   "metadata": {
    "collapsed": true
   },
   "outputs": [],
   "source": [
    "from sklearn.preprocessing import normalize\n",
    "xList = normalize(xList, norm='l2', axis=0)"
   ]
  },
  {
   "cell_type": "code",
   "execution_count": 53,
   "metadata": {
    "collapsed": true
   },
   "outputs": [],
   "source": [
    "from sklearn.model_selection import train_test_split\n",
    "X_train, X_test, y_train, y_test = train_test_split(xList, yList, random_state = 42, test_size = 0.2)"
   ]
  },
  {
   "cell_type": "code",
   "execution_count": 54,
   "metadata": {},
   "outputs": [
    {
     "name": "stdout",
     "output_type": "stream",
     "text": [
      "(256, 2079)\n"
     ]
    }
   ],
   "source": [
    "print(X_train.shape)"
   ]
  },
  {
   "cell_type": "code",
   "execution_count": 55,
   "metadata": {},
   "outputs": [
    {
     "name": "stdout",
     "output_type": "stream",
     "text": [
      "0.9375\n",
      "              precision    recall  f1-score   support\n",
      "\n",
      "    Melanoma       0.91      0.97      0.94        32\n",
      " NonMelanoma       0.97      0.91      0.94        32\n",
      "\n",
      "   micro avg       0.94      0.94      0.94        64\n",
      "   macro avg       0.94      0.94      0.94        64\n",
      "weighted avg       0.94      0.94      0.94        64\n",
      "\n",
      "(0.9375, 0.9375, None)\n"
     ]
    }
   ],
   "source": [
    "from sklearn.ensemble import RandomForestClassifier\n",
    "from imblearn.metrics import sensitivity_specificity_support\n",
    "clf = RandomForestClassifier(random_state=6)\n",
    "clf.fit(X_train, y_train)\n",
    "prediksi = clf.predict(X_test)\n",
    "from sklearn.metrics import accuracy_score\n",
    "print(accuracy_score(y_test, prediksi))\n",
    "print(classification_report(y_test, prediksi))\n",
    "print(sensitivity_specificity_support(y_test, prediksi, average='macro'))"
   ]
  },
  {
   "cell_type": "code",
   "execution_count": 56,
   "metadata": {},
   "outputs": [
    {
     "name": "stdout",
     "output_type": "stream",
     "text": [
      "[0.9375  0.9375  0.90625 0.90625 0.90625 0.96875 0.84375 0.96875 0.90625\n",
      " 0.9375 ]\n",
      "0.921875\n"
     ]
    }
   ],
   "source": [
    "from sklearn.ensemble import RandomForestClassifier\n",
    "clf = RandomForestClassifier()\n",
    "from sklearn.model_selection import cross_val_score\n",
    "score = cross_val_score(clf, xList, yList, cv=10)\n",
    "print(score)\n",
    "print(score.mean())"
   ]
  },
  {
   "cell_type": "code",
   "execution_count": 57,
   "metadata": {},
   "outputs": [
    {
     "name": "stdout",
     "output_type": "stream",
     "text": [
      "[0.9375  0.96875 0.9375  0.9375  0.90625 1.      0.84375 0.90625 0.90625\n",
      " 0.9375 ]\n",
      "0.928125\n"
     ]
    }
   ],
   "source": [
    "clf1 = RandomForestClassifier(random_state=1)\n",
    "clf2 = GradientBoostingClassifier()\n",
    "clf3 = LinearDiscriminantAnalysis()\n",
    "eclf1 = VotingClassifier(estimators=[('rf', clf1), ('gb', clf2), ('lda', clf3)], voting='hard')\n",
    "score = cross_val_score(clf, xList, yList, cv=10)\n",
    "print(score)\n",
    "print(score.mean())"
   ]
  },
  {
   "cell_type": "code",
   "execution_count": 58,
   "metadata": {},
   "outputs": [
    {
     "name": "stdout",
     "output_type": "stream",
     "text": [
      "==============================\n",
      "KNeighborsClassifier\n",
      "****Results****\n",
      "Accuracy: 89.0625%\n",
      "Log Loss: 1.1968428089641059\n",
      "MeanCVScore: 0.90625\n",
      "10FoldCVScore: [0.9375, 0.9375, 0.90625, 0.9375, 0.9375, 0.96875, 0.8125, 0.875, 0.8125, 0.9375]\n",
      "sensitivity: 0.90625\n",
      "specificity: 0.90625\n",
      "f1-score: 0.9059432289449303\n",
      "==============================\n",
      "SVC\n",
      "****Results****\n",
      "Accuracy: 96.8750%\n",
      "Log Loss: 0.13843782821699627\n",
      "MeanCVScore: 0.93125\n",
      "10FoldCVScore: [0.96875, 0.96875, 0.9375, 0.875, 0.96875, 0.9375, 0.84375, 0.96875, 0.9375, 0.90625]\n",
      "sensitivity: 0.93125\n",
      "specificity: 0.93125\n",
      "f1-score: 0.9308674371423834\n",
      "==============================\n",
      "DecisionTreeClassifier\n",
      "****Results****\n",
      "Accuracy: 90.6250%\n",
      "Log Loss: 3.2380102870228766\n",
      "MeanCVScore: 0.9125\n",
      "10FoldCVScore: [0.96875, 0.96875, 0.9375, 0.8125, 0.875, 0.96875, 0.8125, 0.9375, 0.84375, 1.0]\n",
      "sensitivity: 0.9125\n",
      "specificity: 0.9125\n",
      "f1-score: 0.9122542497634102\n",
      "==============================\n",
      "RandomForestClassifier\n",
      "****Results****\n",
      "Accuracy: 96.8750%\n",
      "Log Loss: 0.1220578862704273\n",
      "MeanCVScore: 0.93125\n",
      "10FoldCVScore: [0.96875, 0.9375, 0.9375, 0.96875, 0.9375, 0.96875, 0.8125, 0.96875, 0.90625, 0.90625]\n",
      "sensitivity: 0.93125\n",
      "specificity: 0.93125\n",
      "f1-score: 0.9310229397148685\n",
      "==============================\n",
      "AdaBoostClassifier\n",
      "****Results****\n",
      "Accuracy: 93.7500%\n",
      "Log Loss: 0.3097572976155667\n",
      "MeanCVScore: 0.959375\n",
      "10FoldCVScore: [0.96875, 0.96875, 0.96875, 0.90625, 0.96875, 0.96875, 0.90625, 0.96875, 0.96875, 1.0]\n",
      "sensitivity: 0.959375\n",
      "specificity: 0.959375\n",
      "f1-score: 0.9593352883675464\n",
      "==============================\n",
      "GradientBoostingClassifier\n",
      "****Results****\n",
      "Accuracy: 93.7500%\n",
      "Log Loss: 0.2241515021990386\n",
      "MeanCVScore: 0.95\n",
      "10FoldCVScore: [0.9375, 0.96875, 0.9375, 0.96875, 0.90625, 0.96875, 0.875, 1.0, 0.9375, 1.0]\n",
      "sensitivity: 0.95\n",
      "specificity: 0.95\n",
      "f1-score: 0.9499326519464091\n",
      "==============================\n",
      "GaussianNB\n",
      "****Results****\n",
      "Accuracy: 85.9375%\n",
      "Log Loss: 4.8570154305343145\n",
      "MeanCVScore: 0.871875\n",
      "10FoldCVScore: [0.9375, 0.9375, 0.875, 0.78125, 0.90625, 0.96875, 0.6875, 0.90625, 0.8125, 0.90625]\n",
      "sensitivity: 0.871875\n",
      "specificity: 0.871875\n",
      "f1-score: 0.8708526505420112\n",
      "==============================\n",
      "LinearDiscriminantAnalysis\n",
      "****Results****\n",
      "Accuracy: 98.4375%\n",
      "Log Loss: 0.14951497588476467\n",
      "MeanCVScore: 0.959375\n",
      "10FoldCVScore: [0.96875, 0.96875, 0.96875, 0.9375, 1.0, 0.9375, 0.90625, 1.0, 0.9375, 0.96875]\n",
      "sensitivity: 0.959375\n",
      "specificity: 0.959375\n",
      "f1-score: 0.9592800874015296\n",
      "==============================\n",
      "QuadraticDiscriminantAnalysis\n",
      "****Results****\n",
      "Accuracy: 53.1250%\n",
      "Log Loss: 16.190051435114384\n",
      "MeanCVScore: 0.525\n",
      "10FoldCVScore: [0.59375, 0.53125, 0.4375, 0.625, 0.40625, 0.53125, 0.59375, 0.625, 0.53125, 0.375]\n",
      "sensitivity: 0.525\n",
      "specificity: 0.525\n",
      "f1-score: 0.5076539454394007\n",
      "==============================\n"
     ]
    }
   ],
   "source": [
    "classifiers = [\n",
    "    KNeighborsClassifier(3),\n",
    "    SVC(kernel=\"linear\", probability=True),\n",
    "    #NuSVC(probability=True),\n",
    "    DecisionTreeClassifier(),\n",
    "    RandomForestClassifier(random_state=1),\n",
    "    AdaBoostClassifier(),\n",
    "    GradientBoostingClassifier(),\n",
    "    GaussianNB(),\n",
    "    LinearDiscriminantAnalysis(),\n",
    "    QuadraticDiscriminantAnalysis()]\n",
    "\n",
    "# Logging for Visual Comparison\n",
    "log_cols=[\"Classifier\", \"Accuracy\", \"Log Loss\"]\n",
    "log = pd.DataFrame(columns=log_cols)\n",
    "\n",
    "for clf in classifiers:\n",
    "    clf.fit(X_train, y_train)\n",
    "    name = clf.__class__.__name__\n",
    "    \n",
    "    print(\"=\"*30)\n",
    "    print(name)\n",
    "    \n",
    "    print('****Results****')\n",
    "    train_predictions = clf.predict(X_test)\n",
    "    acc = accuracy_score(y_test, train_predictions)\n",
    "    print(\"Accuracy: {:.4%}\".format(acc))\n",
    "    \n",
    "    train_predictions = clf.predict_proba(X_test)\n",
    "    ll = log_loss(y_test, train_predictions)\n",
    "    print(\"Log Loss: {}\".format(ll))\n",
    "    \n",
    "    log_entry = pd.DataFrame([[name, acc*100, ll]], columns=log_cols)\n",
    "    log = log.append(log_entry)\n",
    "    \n",
    "    ######################### perform 10 fold validation ######################\n",
    "    kf = StratifiedKFold(n_splits=10)\n",
    "    scorelist = []\n",
    "    sensitivity = []\n",
    "    specificity = []\n",
    "    f1 = []\n",
    "    for train_index, test_index in kf.split(xList, yList):\n",
    "        clf.fit(xList[train_index], yList[train_index])\n",
    "        p = clf.predict(xList[test_index])\n",
    "        accval = accuracy_score(yList[test_index], p)\n",
    "        scorelist.append(accval)\n",
    "        sss = sensitivity_specificity_support(yList[test_index], p, average='macro')\n",
    "        sensitivity.append(sss[0])\n",
    "        specificity.append(sss[1])\n",
    "        f1.append(f1_score(yList[test_index], p, average='macro') )\n",
    "\n",
    "        \n",
    "    print(\"MeanCVScore: {}\".format(sum(scorelist)/len(scorelist)))\n",
    "    print(\"10FoldCVScore: {}\".format(scorelist))\n",
    "    print(\"sensitivity: {}\".format(sum(sensitivity)/len(sensitivity)))\n",
    "    print(\"specificity: {}\".format(sum(specificity)/len(specificity)))\n",
    "    print(\"f1-score: {}\".format(sum(f1)/len(f1)))\n",
    "\n",
    "    #############################################################################\n",
    "    \n",
    "print(\"=\"*30)"
   ]
  },
  {
   "cell_type": "code",
   "execution_count": 118,
   "metadata": {
    "collapsed": true
   },
   "outputs": [],
   "source": [
    "# clf1 = RandomForestClassifier(random_state=1)\n",
    "# clf2 = GradientBoostingClassifier()\n",
    "# clf3 = LinearDiscriminantAnalysis()\n",
    "# eclf1 = VotingClassifier(estimators=[('rf', clf1), ('gb', clf2), ('lda', clf3)], voting='hard')\n",
    "# score = cross_val_score(clf, xList, yList, cv=10)\n",
    "# print(score)\n",
    "# print(score.mean())"
   ]
  },
  {
   "cell_type": "code",
   "execution_count": null,
   "metadata": {
    "collapsed": true
   },
   "outputs": [],
   "source": [
    "# cm1 = confusion_matrix(yList[test_index],p)\n",
    "# print('Confusion Matrix : \\n', cm1)\n",
    "\n",
    "# total1=sum(sum(cm1))\n",
    "# #####from confusion matrix calculate accuracy\n",
    "# accuracy1=(cm1[0,0]+cm1[1,1])/total1\n",
    "# print ('Accuracy : ', accuracy1)\n",
    "\n",
    "# sensitivity1 = cm1[0,0]/(cm1[0,0]+cm1[0,1])\n",
    "# print('Sensitivity : ', sensitivity1 )\n",
    "\n",
    "# specificity1 = cm1[1,1]/(cm1[1,0]+cm1[1,1])\n",
    "# print('Specificity : ', specificity1)\n",
    "\n",
    "# print(classification_report(yList[test_index], p))\n",
    "    \n",
    "# score = cross_val_score(clf, xList, yList, cv=10)\n",
    "# print(\"MeanCVScore: {}\".format(score.mean()))\n",
    "# print(\"10FoldCVScore: {}\".format(score))"
   ]
  },
  {
   "cell_type": "code",
   "execution_count": null,
   "metadata": {
    "collapsed": true
   },
   "outputs": [],
   "source": [
    "# feaPath = '../xprmt/feature/extract-slbp-melanoma_binary_augmented-mlbox-20181117-151136/melanoma_binary_augmented'\n",
    "\n",
    "# xListL = []\n",
    "# yListL = []\n",
    "# yLi = os.listdir(feaPath)\n",
    "# sumdat = 0\n",
    "# for i in yLi:\n",
    "#     file = os.listdir(feaPath+ \"/\" + i)\n",
    "#     cnt = 0\n",
    "#     for j in file:\n",
    "#         if j.endswith('.pkl'):\n",
    "#             #print(j)\n",
    "#             x = joblib.load(feaPath + \"/\" + i + \"/\" +j)\n",
    "#             xListL.append(x)\n",
    "#             yListL.append(i)\n",
    "#             cnt += 1\n",
    "#     print(str(i) + \" \" + str(cnt))\n",
    "#     sumdat += cnt\n",
    "# print(\"semuanya \"+ str(sumdat))\n",
    "# feaPath = '../xprmt/feature/extract-haralick-melanoma_binary_augmented-mlbox-20181117-151626/melanoma_binary_augmented'\n",
    "\n",
    "# xListH = []\n",
    "# yListH = []\n",
    "# yLi = os.listdir(feaPath)\n",
    "# sumdat = 0\n",
    "# for i in yLi:\n",
    "#     file = os.listdir(feaPath+ \"/\" + i)\n",
    "#     cnt = 0\n",
    "#     for j in file:\n",
    "#         if j.endswith('.pkl'):\n",
    "#             #print(j)\n",
    "#             x = joblib.load(feaPath + \"/\" + i + \"/\" +j)\n",
    "#             xListH.append(x)\n",
    "#             yListH.append(i)\n",
    "#             cnt += 1\n",
    "#     print(str(i) + \" \" + str(cnt))\n",
    "#     sumdat += cnt\n",
    "# print(\"semuanya \"+ str(sumdat))\n",
    "# feaPath = '../xprmt/feature/extract-wtio-melanoma_binary_augmented-mlbox-20181117-145744/melanoma_binary_augmented'\n",
    "\n",
    "# xListW = []\n",
    "# yListW = []\n",
    "# yLi = os.listdir(feaPath)\n",
    "# sumdat = 0\n",
    "# for i in yLi:\n",
    "#     file = os.listdir(feaPath+ \"/\" + i)\n",
    "#     cnt = 0\n",
    "#     for j in file:\n",
    "#         if j.endswith('.pkl'):\n",
    "#             #print(j)\n",
    "#             x = joblib.load(feaPath + \"/\" + i + \"/\" +j)\n",
    "#             xListW.append(x)\n",
    "#             yListW.append(i)\n",
    "#             cnt += 1\n",
    "#     print(str(i) + \" \" + str(cnt))\n",
    "#     sumdat += cnt\n",
    "# print(\"semuanya \"+ str(sumdat))\n",
    "# xListL = np.array(xListL)\n",
    "# xListH = np.array(xListH)\n",
    "# xListW = np.array(xListW)\n",
    "# xList1 = np.concatenate((xListL, xListH, xListW), axis=1)\n",
    "# #xList = np.concatenate((xListL, xListW), axis=1)\n",
    "# print(yListL == yListH)\n",
    "# print(yListH == yListW)\n",
    "# yList1 = yListL"
   ]
  },
  {
   "cell_type": "code",
   "execution_count": null,
   "metadata": {
    "collapsed": true
   },
   "outputs": [],
   "source": []
  }
 ],
 "metadata": {
  "kernelspec": {
   "display_name": "Python [conda env:fastai]",
   "language": "python",
   "name": "conda-env-fastai-py"
  },
  "language_info": {
   "codemirror_mode": {
    "name": "ipython",
    "version": 3
   },
   "file_extension": ".py",
   "mimetype": "text/x-python",
   "name": "python",
   "nbconvert_exporter": "python",
   "pygments_lexer": "ipython3",
   "version": "3.6.4"
  }
 },
 "nbformat": 4,
 "nbformat_minor": 2
}
