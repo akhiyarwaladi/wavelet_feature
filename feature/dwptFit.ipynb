{
 "cells": [
  {
   "cell_type": "code",
   "execution_count": 1,
   "metadata": {
    "collapsed": true
   },
   "outputs": [],
   "source": [
    "import os\n",
    "import sys\n",
    "import time\n",
    "import datetime\n",
    "import socket\n",
    "import yaml\n",
    "import shutil\n",
    "\n",
    "import pandas as pd\n",
    "import numpy as np\n",
    "\n",
    "from sklearn.externals import joblib \n",
    "\n",
    "from sklearn.metrics import accuracy_score, log_loss, f1_score, confusion_matrix, classification_report\n",
    "from sklearn.neighbors import KNeighborsClassifier\n",
    "from sklearn.svm import SVC, LinearSVC, NuSVC\n",
    "from sklearn.tree import DecisionTreeClassifier\n",
    "from sklearn.ensemble import RandomForestClassifier, AdaBoostClassifier, GradientBoostingClassifier, VotingClassifier\n",
    "from sklearn.naive_bayes import GaussianNB\n",
    "from sklearn.discriminant_analysis import LinearDiscriminantAnalysis, QuadraticDiscriminantAnalysis\n",
    "from sklearn.model_selection import cross_val_score, KFold, StratifiedKFold\n",
    "\n",
    "import warnings\n",
    "warnings.simplefilter(action='ignore', category=FutureWarning)\n",
    "warnings.simplefilter(action='ignore', category=UserWarning)"
   ]
  },
  {
   "cell_type": "code",
   "execution_count": 2,
   "metadata": {},
   "outputs": [
    {
     "name": "stdout",
     "output_type": "stream",
     "text": [
      "../xprmt/feature/extract-haralick-DataPH2_lesion-mlbox-20181117-171415/DataPH2_lesion\n",
      "Melanoma 40\n",
      "Atypical Nevus 80\n",
      "Common Nevus 80\n",
      "semuanya 200\n",
      "../xprmt/feature/extract-slbp-DataPH2_lesion-mlbox-20181117-170250/DataPH2_lesion\n",
      "Melanoma 40\n",
      "Atypical Nevus 80\n",
      "Common Nevus 80\n",
      "semuanya 200\n",
      "../xprmt/feature/extract-wtio-DataPH2_lesion-mlbox-20181117-165159/DataPH2_lesion\n",
      "Melanoma 40\n",
      "Atypical Nevus 80\n",
      "Common Nevus 80\n",
      "semuanya 200\n"
     ]
    }
   ],
   "source": [
    "folderFeature = 'feature'\n",
    "feaPaths = ['../xprmt/'+folderFeature+'/extract-haralick-DataPH2_lesion-mlbox-20181117-171415/DataPH2_lesion',\n",
    "           '../xprmt/'+folderFeature+'/extract-slbp-DataPH2_lesion-mlbox-20181117-170250/DataPH2_lesion',\n",
    "           '../xprmt/'+folderFeature+'/extract-wtio-DataPH2_lesion-mlbox-20181118-033549/DataPH2_lesion',\n",
    "          ]\n",
    "\n",
    "featureList = []\n",
    "labelList = []\n",
    "for feaPath in feaPaths:\n",
    "    print(feaPath)\n",
    "    xListL = []\n",
    "    yListL = []\n",
    "    yLi = os.listdir(feaPath)\n",
    "    sumdat = 0\n",
    "    for i in yLi:\n",
    "        file = os.listdir(feaPath+ \"/\" + i)\n",
    "        cnt = 0\n",
    "        for j in file:\n",
    "            if j.endswith('.pkl'):\n",
    "                #print(j)\n",
    "                x = joblib.load(feaPath + \"/\" + i + \"/\" +j)\n",
    "                xListL.append(x)\n",
    "                yListL.append(i)\n",
    "                cnt += 1\n",
    "        print(str(i) + \" \" + str(cnt))\n",
    "        sumdat += cnt\n",
    "    \n",
    "    print(\"semuanya \"+ str(sumdat))\n",
    "    featureList.append(xListL)\n",
    "    labelList.append(yListL)\n",
    "\n",
    "xList = np.concatenate((featureList[0], featureList[1]), axis=1)\n",
    "for idx in range(len(featureList)-2):\n",
    "    xList = np.concatenate((xList, featureList[idx+2]), axis=1)\n",
    "\n",
    "xList1 = xList\n",
    "yList1 = labelList[0]"
   ]
  },
  {
   "cell_type": "code",
   "execution_count": 3,
   "metadata": {},
   "outputs": [
    {
     "name": "stdout",
     "output_type": "stream",
     "text": [
      "../xprmt/feature/extract-haralick-DataPH2_lesion_hairremove-mlbox-20181117-174657/DataPH2_lesion_hairremove\n",
      "Melanoma 40\n",
      "Atypical Nevus 80\n",
      "Common Nevus 80\n",
      "semuanya 200\n",
      "../xprmt/feature/extract-slbp-DataPH2_lesion_hairremove-mlbox-20181117-173341/DataPH2_lesion_hairremove\n",
      "Melanoma 40\n",
      "Atypical Nevus 80\n",
      "Common Nevus 80\n",
      "semuanya 200\n",
      "../xprmt/feature/extract-wtio-DataPH2_lesion_hairremove-mlbox-20181117-172037/DataPH2_lesion_hairremove\n",
      "Melanoma 40\n",
      "Atypical Nevus 80\n",
      "Common Nevus 80\n",
      "semuanya 200\n"
     ]
    }
   ],
   "source": [
    "folderFeature = 'feature'\n",
    "feaPaths = ['../xprmt/'+folderFeature+'/extract-haralick-DataPH2_lesion_hairremove-mlbox-20181117-174657/DataPH2_lesion_hairremove',\n",
    "           '../xprmt/'+folderFeature+'/extract-slbp-DataPH2_lesion_hairremove-mlbox-20181117-173341/DataPH2_lesion_hairremove',\n",
    "           '../xprmt/'+folderFeature+'/extract-wtio-DataPH2_lesion_hairremove-mlbox-20181118-035201/DataPH2_lesion_hairremove',\n",
    "          ]\n",
    "\n",
    "featureList = []\n",
    "labelList = []\n",
    "for feaPath in feaPaths:\n",
    "    print(feaPath)\n",
    "    xListL = []\n",
    "    yListL = []\n",
    "    yLi = os.listdir(feaPath)\n",
    "    sumdat = 0\n",
    "    for i in yLi:\n",
    "        file = os.listdir(feaPath+ \"/\" + i)\n",
    "        cnt = 0\n",
    "        for j in file:\n",
    "            if j.endswith('.pkl'):\n",
    "                #print(j)\n",
    "                x = joblib.load(feaPath + \"/\" + i + \"/\" +j)\n",
    "                xListL.append(x)\n",
    "                yListL.append(i)\n",
    "                cnt += 1\n",
    "        print(str(i) + \" \" + str(cnt))\n",
    "        sumdat += cnt\n",
    "    \n",
    "    print(\"semuanya \"+ str(sumdat))\n",
    "    featureList.append(xListL)\n",
    "    labelList.append(yListL)\n",
    "\n",
    "xList = np.concatenate((featureList[0], featureList[1]), axis=1)\n",
    "for idx in range(len(featureList)-2):\n",
    "    xList = np.concatenate((xList, featureList[idx+2]), axis=1)\n",
    "\n",
    "xList2 = xList\n",
    "yList2 = labelList[0]"
   ]
  },
  {
   "cell_type": "code",
   "execution_count": 4,
   "metadata": {},
   "outputs": [
    {
     "name": "stdout",
     "output_type": "stream",
     "text": [
      "400\n"
     ]
    }
   ],
   "source": [
    "xList = np.concatenate((xList1, xList2), axis=0)\n",
    "yList1.extend(yList2)\n",
    "yList = yList1\n",
    "print(len(yList))"
   ]
  },
  {
   "cell_type": "code",
   "execution_count": 5,
   "metadata": {},
   "outputs": [
    {
     "name": "stdout",
     "output_type": "stream",
     "text": [
      "(400, 2079)\n",
      "(400,)\n"
     ]
    }
   ],
   "source": [
    "xList = np.array(xList)\n",
    "yList = np.array(yList)\n",
    "print(xList.shape)\n",
    "print(yList.shape)"
   ]
  },
  {
   "cell_type": "code",
   "execution_count": 6,
   "metadata": {
    "collapsed": true
   },
   "outputs": [],
   "source": [
    "from sklearn.preprocessing import normalize\n",
    "xList = normalize(xList, norm='l2', axis=0)"
   ]
  },
  {
   "cell_type": "code",
   "execution_count": 7,
   "metadata": {
    "collapsed": true
   },
   "outputs": [],
   "source": [
    "from sklearn.model_selection import train_test_split\n",
    "X_train, X_test, y_train, y_test = train_test_split(xList, yList, random_state = 42, test_size = 0.2)"
   ]
  },
  {
   "cell_type": "code",
   "execution_count": 8,
   "metadata": {},
   "outputs": [
    {
     "name": "stdout",
     "output_type": "stream",
     "text": [
      "(320, 2079)\n"
     ]
    }
   ],
   "source": [
    "print(X_train.shape)"
   ]
  },
  {
   "cell_type": "code",
   "execution_count": 9,
   "metadata": {},
   "outputs": [
    {
     "name": "stdout",
     "output_type": "stream",
     "text": [
      "0.9\n",
      "                precision    recall  f1-score   support\n",
      "\n",
      "Atypical Nevus       0.93      0.81      0.87        32\n",
      "  Common Nevus       0.88      0.94      0.91        31\n",
      "      Melanoma       0.89      1.00      0.94        17\n",
      "\n",
      "     micro avg       0.90      0.90      0.90        80\n",
      "     macro avg       0.90      0.92      0.91        80\n",
      "  weighted avg       0.90      0.90      0.90        80\n",
      "\n",
      "(0.915994623655914, 0.948318216175359, None)\n"
     ]
    }
   ],
   "source": [
    "from sklearn.ensemble import RandomForestClassifier\n",
    "from imblearn.metrics import sensitivity_specificity_support\n",
    "clf = RandomForestClassifier(random_state=6)\n",
    "clf.fit(X_train, y_train)\n",
    "prediksi = clf.predict(X_test)\n",
    "from sklearn.metrics import accuracy_score\n",
    "print(accuracy_score(y_test, prediksi))\n",
    "print(classification_report(y_test, prediksi))\n",
    "print(sensitivity_specificity_support(y_test, prediksi, average='macro'))"
   ]
  },
  {
   "cell_type": "code",
   "execution_count": 10,
   "metadata": {},
   "outputs": [
    {
     "name": "stdout",
     "output_type": "stream",
     "text": [
      "[0.825 0.85  0.975 0.9   0.9   0.875 0.8   0.9   0.95  0.9  ]\n",
      "0.8875\n"
     ]
    }
   ],
   "source": [
    "clf1 = RandomForestClassifier(random_state=1)\n",
    "clf2 = GradientBoostingClassifier()\n",
    "clf3 = LinearDiscriminantAnalysis()\n",
    "eclf1 = VotingClassifier(estimators=[('rf', clf1), ('gb', clf2), ('lda', clf3)], voting='hard')\n",
    "score = cross_val_score(clf, xList, yList, cv=10)\n",
    "print(score)\n",
    "print(score.mean())"
   ]
  },
  {
   "cell_type": "code",
   "execution_count": 11,
   "metadata": {},
   "outputs": [
    {
     "name": "stdout",
     "output_type": "stream",
     "text": [
      "[0.925 0.775 0.9   0.975 0.825 0.85  0.75  0.925 0.825 0.875]\n",
      "0.8625\n"
     ]
    }
   ],
   "source": [
    "from sklearn.ensemble import RandomForestClassifier\n",
    "clf = RandomForestClassifier()\n",
    "from sklearn.model_selection import cross_val_score\n",
    "score = cross_val_score(clf, xList, yList, cv=10)\n",
    "print(score)\n",
    "print(score.mean())"
   ]
  },
  {
   "cell_type": "code",
   "execution_count": 12,
   "metadata": {},
   "outputs": [
    {
     "name": "stdout",
     "output_type": "stream",
     "text": [
      "==============================\n",
      "KNeighborsClassifier\n",
      "****Results****\n",
      "Accuracy: 66.2500%\n",
      "Log Loss: 0.4656073226554728\n",
      "MeanCVScore: 0.6475\n",
      "10FoldCVScore: [0.65, 0.65, 0.675, 0.625, 0.625, 0.65, 0.625, 0.675, 0.625, 0.675]\n",
      "sensitivity: 0.6583333333333333\n",
      "specificity: 0.809375\n",
      "f1-score: 0.6650308204848552\n",
      "==============================\n",
      "DecisionTreeClassifier\n",
      "****Results****\n",
      "Accuracy: 77.5000%\n",
      "Log Loss: 7.771224688854905\n",
      "MeanCVScore: 0.8625\n",
      "10FoldCVScore: [0.85, 0.875, 0.925, 0.85, 0.825, 0.875, 0.85, 0.9, 0.775, 0.9]\n",
      "sensitivity: 0.8854166666666666\n",
      "specificity: 0.9249999999999998\n",
      "f1-score: 0.8800235946053739\n",
      "==============================\n",
      "RandomForestClassifier\n",
      "****Results****\n",
      "Accuracy: 80.0000%\n",
      "Log Loss: 0.4947835339145227\n",
      "MeanCVScore: 0.9\n",
      "10FoldCVScore: [0.95, 0.9, 0.925, 0.925, 0.925, 0.875, 0.875, 0.85, 0.875, 0.9]\n",
      "sensitivity: 0.9124999999999999\n",
      "specificity: 0.9447916666666666\n",
      "f1-score: 0.9131802275101201\n",
      "==============================\n",
      "AdaBoostClassifier\n",
      "****Results****\n",
      "Accuracy: 62.5000%\n",
      "Log Loss: 0.6371681117322445\n",
      "MeanCVScore: 0.6475\n",
      "10FoldCVScore: [0.675, 0.65, 0.65, 0.625, 0.725, 0.625, 0.475, 0.65, 0.675, 0.725]\n",
      "sensitivity: 0.65\n",
      "specificity: 0.8052083333333332\n",
      "f1-score: 0.6681438344668895\n",
      "==============================\n",
      "GradientBoostingClassifier\n",
      "****Results****\n",
      "Accuracy: 87.5000%\n",
      "Log Loss: 0.2783819925248912\n",
      "MeanCVScore: 0.925\n",
      "10FoldCVScore: [0.925, 0.875, 0.925, 0.975, 0.925, 0.925, 0.9, 0.925, 0.975, 0.9]\n",
      "sensitivity: 0.9333333333333333\n",
      "specificity: 0.9586805555555555\n",
      "f1-score: 0.9342085705249842\n",
      "==============================\n",
      "GaussianNB\n",
      "****Results****\n",
      "Accuracy: 60.0000%\n",
      "Log Loss: 13.815510557964274\n",
      "MeanCVScore: 0.5625\n",
      "10FoldCVScore: [0.575, 0.525, 0.55, 0.55, 0.6, 0.6, 0.525, 0.55, 0.55, 0.6]\n",
      "sensitivity: 0.6020833333333333\n",
      "specificity: 0.7684027777777779\n",
      "f1-score: 0.524117478985634\n",
      "==============================\n",
      "LinearDiscriminantAnalysis\n",
      "****Results****\n",
      "Accuracy: 88.7500%\n",
      "Log Loss: 1.2487166960628528\n",
      "MeanCVScore: 0.9225\n",
      "10FoldCVScore: [0.9, 0.95, 0.9, 0.9, 0.95, 0.975, 0.9, 0.875, 0.95, 0.925]\n",
      "sensitivity: 0.93125\n",
      "specificity: 0.9569444444444445\n",
      "f1-score: 0.9327835700914449\n",
      "==============================\n",
      "QuadraticDiscriminantAnalysis\n",
      "****Results****\n",
      "Accuracy: 53.7500%\n",
      "Log Loss: 15.974184082646193\n",
      "MeanCVScore: 0.5774999999999999\n",
      "10FoldCVScore: [0.65, 0.475, 0.475, 0.825, 0.625, 0.65, 0.525, 0.475, 0.5, 0.575]\n",
      "sensitivity: 0.58125\n",
      "specificity: 0.7927083333333333\n",
      "f1-score: 0.5598802270905304\n",
      "==============================\n"
     ]
    }
   ],
   "source": [
    "\n",
    "classifiers = [\n",
    "    KNeighborsClassifier(3),\n",
    "    #SVC(kernel=\"rbf\", C=0.025, probability=True),\n",
    "    #NuSVC(probability=True),\n",
    "    DecisionTreeClassifier(),\n",
    "    RandomForestClassifier(random_state=1),\n",
    "    AdaBoostClassifier(),\n",
    "    GradientBoostingClassifier(),\n",
    "    GaussianNB(),\n",
    "    LinearDiscriminantAnalysis(),\n",
    "    QuadraticDiscriminantAnalysis()]\n",
    "\n",
    "# Logging for Visual Comparison\n",
    "log_cols=[\"Classifier\", \"Accuracy\", \"Log Loss\"]\n",
    "log = pd.DataFrame(columns=log_cols)\n",
    "\n",
    "for clf in classifiers:\n",
    "    clf.fit(X_train, y_train)\n",
    "    name = clf.__class__.__name__\n",
    "    \n",
    "    print(\"=\"*30)\n",
    "    print(name)\n",
    "    \n",
    "    print('****Results****')\n",
    "    train_predictions = clf.predict(X_test)\n",
    "    acc = accuracy_score(y_test, train_predictions)\n",
    "    print(\"Accuracy: {:.4%}\".format(acc))\n",
    "    \n",
    "    train_predictions = clf.predict_proba(X_test)\n",
    "    ll = log_loss(y_test, train_predictions)\n",
    "    print(\"Log Loss: {}\".format(ll))\n",
    "    \n",
    "    log_entry = pd.DataFrame([[name, acc*100, ll]], columns=log_cols)\n",
    "    log = log.append(log_entry)\n",
    "    \n",
    "    ######################### perform 10 fold validation ######################\n",
    "    kf = StratifiedKFold(n_splits=10)\n",
    "    scorelist = []\n",
    "    sensitivity = []\n",
    "    specificity = []\n",
    "    f1 = []\n",
    "    for train_index, test_index in kf.split(xList, yList):\n",
    "        clf.fit(xList[train_index], yList[train_index])\n",
    "        p = clf.predict(xList[test_index])\n",
    "        accval = accuracy_score(yList[test_index], p)\n",
    "        scorelist.append(accval)\n",
    "        sss = sensitivity_specificity_support(yList[test_index], p, average='macro')\n",
    "        sensitivity.append(sss[0])\n",
    "        specificity.append(sss[1])\n",
    "        f1.append(f1_score(yList[test_index], p, average='macro') )\n",
    "\n",
    "        \n",
    "    print(\"MeanCVScore: {}\".format(sum(scorelist)/len(scorelist)))\n",
    "    print(\"10FoldCVScore: {}\".format(scorelist))\n",
    "    print(\"sensitivity: {}\".format(sum(sensitivity)/len(sensitivity)))\n",
    "    print(\"specificity: {}\".format(sum(specificity)/len(specificity)))\n",
    "    print(\"f1-score: {}\".format(sum(f1)/len(f1)))\n",
    "\n",
    "    #############################################################################\n",
    "    \n",
    "print(\"=\"*30)"
   ]
  },
  {
   "cell_type": "code",
   "execution_count": 13,
   "metadata": {
    "collapsed": true
   },
   "outputs": [],
   "source": [
    "# feaPath = '../xprmt/feature1/extract-slbp-DataPH2-mlbox-20181116-021021/DataPH2'\n",
    "\n",
    "# xListL = []\n",
    "# yListL = []\n",
    "# yLi = os.listdir(feaPath)\n",
    "# sumdat = 0\n",
    "# for i in yLi:\n",
    "#     file = os.listdir(feaPath+ \"/\" + i)\n",
    "#     cnt = 0\n",
    "#     for j in file:\n",
    "#         if j.endswith('.pkl'):\n",
    "#             #print(j)\n",
    "#             x = joblib.load(feaPath + \"/\" + i + \"/\" +j)\n",
    "#             xListL.append(x)\n",
    "#             yListL.append(i)\n",
    "#             cnt += 1\n",
    "#     print(str(i) + \" \" + str(cnt))\n",
    "#     sumdat += cnt\n",
    "# print(\"semuanya \"+ str(sumdat))\n",
    "# feaPath = '../xprmt/feature1/extract-haralick-DataPH2-mlbox-20181116-021704/DataPH2'\n",
    "\n",
    "# xListH = []\n",
    "# yListH = []\n",
    "# yLi = os.listdir(feaPath)\n",
    "# sumdat = 0\n",
    "# for i in yLi:\n",
    "#     file = os.listdir(feaPath+ \"/\" + i)\n",
    "#     cnt = 0\n",
    "#     for j in file:\n",
    "#         if j.endswith('.pkl'):\n",
    "#             #print(j)\n",
    "#             x = joblib.load(feaPath + \"/\" + i + \"/\" +j)\n",
    "#             xListH.append(x)\n",
    "#             yListH.append(i)\n",
    "#             cnt += 1\n",
    "#     print(str(i) + \" \" + str(cnt))\n",
    "#     sumdat += cnt\n",
    "# print(\"semuanya \"+ str(sumdat))\n",
    "# feaPath = '../xprmt/feature1/extract-wtio-DataPH2-mlbox-20181116-021739/DataPH2'\n",
    "\n",
    "# xListW = []\n",
    "# yListW = []\n",
    "# yLi = os.listdir(feaPath)\n",
    "# sumdat = 0\n",
    "# for i in yLi:\n",
    "#     file = os.listdir(feaPath+ \"/\" + i)\n",
    "#     cnt = 0\n",
    "#     for j in file:\n",
    "#         if j.endswith('.pkl'):\n",
    "#             #print(j)\n",
    "#             x = joblib.load(feaPath + \"/\" + i + \"/\" +j)\n",
    "#             xListW.append(x)\n",
    "#             yListW.append(i)\n",
    "#             cnt += 1\n",
    "#     print(str(i) + \" \" + str(cnt))\n",
    "#     sumdat += cnt\n",
    "# print(\"semuanya \"+ str(sumdat))\n",
    "\n",
    "# xListL = np.array(xListL)\n",
    "# xListH = np.array(xListH)\n",
    "# xListW = np.array(xListW)\n",
    "# xList2 = np.concatenate((xListL, xListH, xListW), axis=1)\n",
    "# #xList = np.concatenate((xListL, xListW), axis=1)\n",
    "# print(yListL == yListH)\n",
    "# print(yListH == yListW)\n",
    "# yList2 = yListL"
   ]
  },
  {
   "cell_type": "code",
   "execution_count": null,
   "metadata": {
    "collapsed": true
   },
   "outputs": [],
   "source": []
  }
 ],
 "metadata": {
  "kernelspec": {
   "display_name": "Python [conda env:fastai]",
   "language": "python",
   "name": "conda-env-fastai-py"
  },
  "language_info": {
   "codemirror_mode": {
    "name": "ipython",
    "version": 3
   },
   "file_extension": ".py",
   "mimetype": "text/x-python",
   "name": "python",
   "nbconvert_exporter": "python",
   "pygments_lexer": "ipython3",
   "version": "3.6.4"
  }
 },
 "nbformat": 4,
 "nbformat_minor": 2
}
