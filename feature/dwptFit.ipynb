{
 "cells": [
  {
   "cell_type": "code",
   "execution_count": 41,
   "metadata": {
    "collapsed": true
   },
   "outputs": [],
   "source": [
    "import os\n",
    "import sys\n",
    "import time\n",
    "import datetime\n",
    "import socket\n",
    "import yaml\n",
    "import shutil\n",
    "\n",
    "import pandas as pd\n",
    "import numpy as np\n",
    "\n",
    "from sklearn.externals import joblib \n",
    "\n",
    "from sklearn.metrics import accuracy_score, log_loss, f1_score, confusion_matrix, classification_report\n",
    "from sklearn.neighbors import KNeighborsClassifier\n",
    "from sklearn.svm import SVC, LinearSVC, NuSVC\n",
    "from sklearn.tree import DecisionTreeClassifier\n",
    "from sklearn.ensemble import RandomForestClassifier, AdaBoostClassifier, GradientBoostingClassifier, VotingClassifier\n",
    "from sklearn.naive_bayes import GaussianNB\n",
    "from sklearn.discriminant_analysis import LinearDiscriminantAnalysis, QuadraticDiscriminantAnalysis\n",
    "from sklearn.model_selection import cross_val_score, KFold, StratifiedKFold\n",
    "\n",
    "import warnings\n",
    "warnings.simplefilter(action='ignore', category=FutureWarning)\n",
    "warnings.simplefilter(action='ignore', category=UserWarning)"
   ]
  },
  {
   "cell_type": "code",
   "execution_count": 42,
   "metadata": {},
   "outputs": [
    {
     "name": "stdout",
     "output_type": "stream",
     "text": [
      "../xprmt/feature1/extract-slbp-DataPH2-mlbox-20181116-021021/DataPH2\n",
      "Melanoma 80\n",
      "Atypical Nevus 80\n",
      "Common Nevus 80\n",
      "semuanya 240\n",
      "../xprmt/feature1/extract-haralick-DataPH2-mlbox-20181116-021704/DataPH2\n",
      "Melanoma 80\n",
      "Atypical Nevus 80\n",
      "Common Nevus 80\n",
      "semuanya 240\n",
      "../xprmt/feature1/extract-wtio-DataPH2-mlbox-20181116-021739/DataPH2\n",
      "Melanoma 80\n",
      "Atypical Nevus 80\n",
      "Common Nevus 80\n",
      "semuanya 240\n"
     ]
    }
   ],
   "source": [
    "folderFeature = 'feature1'\n",
    "feaPaths = ['../xprmt/'+folderFeature+'/extract-slbp-DataPH2-mlbox-20181116-021021/DataPH2',\n",
    "           '../xprmt/'+folderFeature+'/extract-haralick-DataPH2-mlbox-20181116-021704/DataPH2',\n",
    "           '../xprmt/'+folderFeature+'/extract-wtio-DataPH2-mlbox-20181116-021739/DataPH2',\n",
    "          ]\n",
    "\n",
    "featureList = []\n",
    "labelList = []\n",
    "for feaPath in feaPaths:\n",
    "    print(feaPath)\n",
    "    xListL = []\n",
    "    yListL = []\n",
    "    yLi = os.listdir(feaPath)\n",
    "    sumdat = 0\n",
    "    for i in yLi:\n",
    "        file = os.listdir(feaPath+ \"/\" + i)\n",
    "        cnt = 0\n",
    "        for j in file:\n",
    "            if j.endswith('.pkl'):\n",
    "                #print(j)\n",
    "                x = joblib.load(feaPath + \"/\" + i + \"/\" +j)\n",
    "                xListL.append(x)\n",
    "                yListL.append(i)\n",
    "                cnt += 1\n",
    "        print(str(i) + \" \" + str(cnt))\n",
    "        sumdat += cnt\n",
    "    \n",
    "    print(\"semuanya \"+ str(sumdat))\n",
    "    featureList.append(xListL)\n",
    "    labelList.append(yListL)\n",
    "\n",
    "xList = np.concatenate((featureList[0], featureList[1]), axis=1)\n",
    "for idx in range(len(featureList)-2):\n",
    "    xList = np.concatenate((xList, featureList[idx+2]), axis=1)\n",
    "\n",
    "xList1 = xList\n",
    "yList1 = labelList[0]"
   ]
  },
  {
   "cell_type": "code",
   "execution_count": 43,
   "metadata": {},
   "outputs": [
    {
     "name": "stdout",
     "output_type": "stream",
     "text": [
      "../xprmt/feature1/extract-slbp-DataPH2_lesion-mlbox-20181116-163545/DataPH2_lesion\n",
      "Melanoma 80\n",
      "Atypical Nevus 80\n",
      "Common Nevus 80\n",
      "semuanya 240\n",
      "../xprmt/feature1/extract-haralick-DataPH2_lesion-mlbox-20181116-184443/DataPH2_lesion\n",
      "Melanoma 80\n",
      "Atypical Nevus 80\n",
      "Common Nevus 80\n",
      "semuanya 240\n",
      "../xprmt/feature1/extract-wtio-DataPH2_lesion-mlbox-20181116-151859/DataPH2_lesion\n",
      "Melanoma 80\n",
      "Atypical Nevus 80\n",
      "Common Nevus 80\n",
      "semuanya 240\n"
     ]
    }
   ],
   "source": [
    "folderFeature = 'feature1'\n",
    "feaPaths = ['../xprmt/'+folderFeature+'/extract-slbp-DataPH2_lesion-mlbox-20181116-163545/DataPH2_lesion',\n",
    "           '../xprmt/'+folderFeature+'/extract-haralick-DataPH2_lesion-mlbox-20181116-184443/DataPH2_lesion',\n",
    "           '../xprmt/'+folderFeature+'/extract-wtio-DataPH2_lesion-mlbox-20181116-151859/DataPH2_lesion',\n",
    "          ]\n",
    "\n",
    "featureList = []\n",
    "labelList = []\n",
    "for feaPath in feaPaths:\n",
    "    print(feaPath)\n",
    "    xListL = []\n",
    "    yListL = []\n",
    "    yLi = os.listdir(feaPath)\n",
    "    sumdat = 0\n",
    "    for i in yLi:\n",
    "        file = os.listdir(feaPath+ \"/\" + i)\n",
    "        cnt = 0\n",
    "        for j in file:\n",
    "            if j.endswith('.pkl'):\n",
    "                #print(j)\n",
    "                x = joblib.load(feaPath + \"/\" + i + \"/\" +j)\n",
    "                xListL.append(x)\n",
    "                yListL.append(i)\n",
    "                cnt += 1\n",
    "        print(str(i) + \" \" + str(cnt))\n",
    "        sumdat += cnt\n",
    "    \n",
    "    print(\"semuanya \"+ str(sumdat))\n",
    "    featureList.append(xListL)\n",
    "    labelList.append(yListL)\n",
    "\n",
    "xList = np.concatenate((featureList[0], featureList[1]), axis=1)\n",
    "for idx in range(len(featureList)-2):\n",
    "    xList = np.concatenate((xList, featureList[idx+2]), axis=1)\n",
    "\n",
    "xList2 = xList\n",
    "yList2 = labelList[0]"
   ]
  },
  {
   "cell_type": "code",
   "execution_count": 44,
   "metadata": {},
   "outputs": [],
   "source": [
    "# feaPath = '../xprmt/feature1/extract-slbp-DataPH2_lesion-mlbox-20181116-163545/DataPH2_lesion'\n",
    "\n",
    "# xListL = []\n",
    "# yListL = []\n",
    "# yLi = os.listdir(feaPath)\n",
    "# sumdat = 0\n",
    "# for i in yLi:\n",
    "#     file = os.listdir(feaPath+ \"/\" + i)\n",
    "#     cnt = 0\n",
    "#     for j in file:\n",
    "#         if j.endswith('.pkl'):\n",
    "#             #print(j)\n",
    "#             x = joblib.load(feaPath + \"/\" + i + \"/\" +j)\n",
    "#             xListL.append(x)\n",
    "#             yListL.append(i)\n",
    "#             cnt += 1\n",
    "#     print(str(i) + \" \" + str(cnt))\n",
    "#     sumdat += cnt\n",
    "# print(\"semuanya \"+ str(sumdat))"
   ]
  },
  {
   "cell_type": "code",
   "execution_count": 45,
   "metadata": {},
   "outputs": [],
   "source": [
    "# feaPath = '../xprmt/feature1/extract-haralick-DataPH2_lesion-mlbox-20181116-184443/DataPH2_lesion'\n",
    "\n",
    "# xListH = []\n",
    "# yListH = []\n",
    "# yLi = os.listdir(feaPath)\n",
    "# sumdat = 0\n",
    "# for i in yLi:\n",
    "#     file = os.listdir(feaPath+ \"/\" + i)\n",
    "#     cnt = 0\n",
    "#     for j in file:\n",
    "#         if j.endswith('.pkl'):\n",
    "#             #print(j)\n",
    "#             x = joblib.load(feaPath + \"/\" + i + \"/\" +j)\n",
    "#             xListH.append(x)\n",
    "#             yListH.append(i)\n",
    "#             cnt += 1\n",
    "#     print(str(i) + \" \" + str(cnt))\n",
    "#     sumdat += cnt\n",
    "# print(\"semuanya \"+ str(sumdat))"
   ]
  },
  {
   "cell_type": "code",
   "execution_count": 46,
   "metadata": {},
   "outputs": [],
   "source": [
    "# feaPath = '../xprmt/feature1/extract-wtio-DataPH2_lesion-mlbox-20181116-151859/DataPH2_lesion'\n",
    "\n",
    "# xListW = []\n",
    "# yListW = []\n",
    "# yLi = os.listdir(feaPath)\n",
    "# sumdat = 0\n",
    "# for i in yLi:\n",
    "#     file = os.listdir(feaPath+ \"/\" + i)\n",
    "#     cnt = 0\n",
    "#     for j in file:\n",
    "#         if j.endswith('.pkl'):\n",
    "#             #print(j)\n",
    "#             x = joblib.load(feaPath + \"/\" + i + \"/\" +j)\n",
    "#             xListW.append(x)\n",
    "#             yListW.append(i)\n",
    "#             cnt += 1\n",
    "#     print(str(i) + \" \" + str(cnt))\n",
    "#     sumdat += cnt\n",
    "# print(\"semuanya \"+ str(sumdat))"
   ]
  },
  {
   "cell_type": "code",
   "execution_count": 47,
   "metadata": {},
   "outputs": [],
   "source": [
    "# xListL = np.array(xListL)\n",
    "# xListH = np.array(xListH)\n",
    "# xListW = np.array(xListW)\n",
    "# xList1 = np.concatenate((xListL, xListH, xListW), axis=1)\n",
    "# #xList = np.concatenate((xListL, xListW), axis=1)\n",
    "# print(yListL == yListH)\n",
    "# print(yListH == yListW)\n",
    "# yList1 = yListL"
   ]
  },
  {
   "cell_type": "code",
   "execution_count": 48,
   "metadata": {},
   "outputs": [],
   "source": [
    "# feaPath = '../xprmt/feature1/extract-slbp-DataPH2-mlbox-20181116-021021/DataPH2'\n",
    "\n",
    "# xListL = []\n",
    "# yListL = []\n",
    "# yLi = os.listdir(feaPath)\n",
    "# sumdat = 0\n",
    "# for i in yLi:\n",
    "#     file = os.listdir(feaPath+ \"/\" + i)\n",
    "#     cnt = 0\n",
    "#     for j in file:\n",
    "#         if j.endswith('.pkl'):\n",
    "#             #print(j)\n",
    "#             x = joblib.load(feaPath + \"/\" + i + \"/\" +j)\n",
    "#             xListL.append(x)\n",
    "#             yListL.append(i)\n",
    "#             cnt += 1\n",
    "#     print(str(i) + \" \" + str(cnt))\n",
    "#     sumdat += cnt\n",
    "# print(\"semuanya \"+ str(sumdat))\n",
    "# feaPath = '../xprmt/feature1/extract-haralick-DataPH2-mlbox-20181116-021704/DataPH2'\n",
    "\n",
    "# xListH = []\n",
    "# yListH = []\n",
    "# yLi = os.listdir(feaPath)\n",
    "# sumdat = 0\n",
    "# for i in yLi:\n",
    "#     file = os.listdir(feaPath+ \"/\" + i)\n",
    "#     cnt = 0\n",
    "#     for j in file:\n",
    "#         if j.endswith('.pkl'):\n",
    "#             #print(j)\n",
    "#             x = joblib.load(feaPath + \"/\" + i + \"/\" +j)\n",
    "#             xListH.append(x)\n",
    "#             yListH.append(i)\n",
    "#             cnt += 1\n",
    "#     print(str(i) + \" \" + str(cnt))\n",
    "#     sumdat += cnt\n",
    "# print(\"semuanya \"+ str(sumdat))\n",
    "# feaPath = '../xprmt/feature1/extract-wtio-DataPH2-mlbox-20181116-021739/DataPH2'\n",
    "\n",
    "# xListW = []\n",
    "# yListW = []\n",
    "# yLi = os.listdir(feaPath)\n",
    "# sumdat = 0\n",
    "# for i in yLi:\n",
    "#     file = os.listdir(feaPath+ \"/\" + i)\n",
    "#     cnt = 0\n",
    "#     for j in file:\n",
    "#         if j.endswith('.pkl'):\n",
    "#             #print(j)\n",
    "#             x = joblib.load(feaPath + \"/\" + i + \"/\" +j)\n",
    "#             xListW.append(x)\n",
    "#             yListW.append(i)\n",
    "#             cnt += 1\n",
    "#     print(str(i) + \" \" + str(cnt))\n",
    "#     sumdat += cnt\n",
    "# print(\"semuanya \"+ str(sumdat))\n",
    "\n",
    "# xListL = np.array(xListL)\n",
    "# xListH = np.array(xListH)\n",
    "# xListW = np.array(xListW)\n",
    "# xList2 = np.concatenate((xListL, xListH, xListW), axis=1)\n",
    "# #xList = np.concatenate((xListL, xListW), axis=1)\n",
    "# print(yListL == yListH)\n",
    "# print(yListH == yListW)\n",
    "# yList2 = yListL"
   ]
  },
  {
   "cell_type": "code",
   "execution_count": 49,
   "metadata": {},
   "outputs": [
    {
     "name": "stdout",
     "output_type": "stream",
     "text": [
      "480\n"
     ]
    }
   ],
   "source": [
    "xList = np.concatenate((xList1, xList2), axis=0)\n",
    "yList1.extend(yList2)\n",
    "yList = yList1\n",
    "print(len(yList))"
   ]
  },
  {
   "cell_type": "code",
   "execution_count": 50,
   "metadata": {},
   "outputs": [
    {
     "name": "stdout",
     "output_type": "stream",
     "text": [
      "(480, 2079)\n",
      "(480,)\n"
     ]
    }
   ],
   "source": [
    "xList = np.array(xList)\n",
    "yList = np.array(yList)\n",
    "print(xList.shape)\n",
    "print(yList.shape)"
   ]
  },
  {
   "cell_type": "code",
   "execution_count": 51,
   "metadata": {
    "collapsed": true
   },
   "outputs": [],
   "source": [
    "from sklearn.preprocessing import normalize\n",
    "xList = normalize(xList, norm='l2', axis=0)"
   ]
  },
  {
   "cell_type": "code",
   "execution_count": 52,
   "metadata": {
    "collapsed": true
   },
   "outputs": [],
   "source": [
    "from sklearn.model_selection import train_test_split\n",
    "X_train, X_test, y_train, y_test = train_test_split(xList, yList, random_state = 42, test_size = 0.2)"
   ]
  },
  {
   "cell_type": "code",
   "execution_count": 53,
   "metadata": {},
   "outputs": [
    {
     "name": "stdout",
     "output_type": "stream",
     "text": [
      "(384, 2079)\n"
     ]
    }
   ],
   "source": [
    "print(X_train.shape)"
   ]
  },
  {
   "cell_type": "code",
   "execution_count": 54,
   "metadata": {},
   "outputs": [
    {
     "name": "stdout",
     "output_type": "stream",
     "text": [
      "0.84375\n",
      "                precision    recall  f1-score   support\n",
      "\n",
      "Atypical Nevus       0.77      0.82      0.79        28\n",
      "  Common Nevus       0.78      0.78      0.78        32\n",
      "      Melanoma       0.97      0.92      0.94        36\n",
      "\n",
      "     micro avg       0.84      0.84      0.84        96\n",
      "     macro avg       0.84      0.84      0.84        96\n",
      "  weighted avg       0.85      0.84      0.85        96\n",
      "\n",
      "(0.839781746031746, 0.923672385620915, None)\n"
     ]
    }
   ],
   "source": [
    "from sklearn.ensemble import RandomForestClassifier\n",
    "from imblearn.metrics import sensitivity_specificity_support\n",
    "clf = RandomForestClassifier(random_state=6)\n",
    "clf.fit(X_train, y_train)\n",
    "prediksi = clf.predict(X_test)\n",
    "from sklearn.metrics import accuracy_score\n",
    "print(accuracy_score(y_test, prediksi))\n",
    "print(classification_report(y_test, prediksi))\n",
    "print(sensitivity_specificity_support(y_test, prediksi, average='macro'))"
   ]
  },
  {
   "cell_type": "code",
   "execution_count": 55,
   "metadata": {},
   "outputs": [
    {
     "name": "stdout",
     "output_type": "stream",
     "text": [
      "[0.89583333 0.875      0.95833333 0.85416667 0.91666667 0.91666667\n",
      " 0.91666667 0.91666667 0.95833333 0.85416667]\n",
      "0.90625\n"
     ]
    }
   ],
   "source": [
    "clf1 = RandomForestClassifier(random_state=1)\n",
    "clf2 = GradientBoostingClassifier()\n",
    "clf3 = LinearDiscriminantAnalysis()\n",
    "eclf1 = VotingClassifier(estimators=[('rf', clf1), ('gb', clf2), ('lda', clf3)], voting='hard')\n",
    "score = cross_val_score(clf, xList, yList, cv=10)\n",
    "print(score)\n",
    "print(score.mean())"
   ]
  },
  {
   "cell_type": "code",
   "execution_count": 56,
   "metadata": {},
   "outputs": [
    {
     "name": "stdout",
     "output_type": "stream",
     "text": [
      "[0.875      0.875      0.91666667 0.91666667 0.875      0.95833333\n",
      " 0.875      0.91666667 0.89583333 0.9375    ]\n",
      "0.9041666666666666\n"
     ]
    }
   ],
   "source": [
    "from sklearn.ensemble import RandomForestClassifier\n",
    "clf = RandomForestClassifier()\n",
    "from sklearn.model_selection import cross_val_score\n",
    "score = cross_val_score(clf, xList, yList, cv=10)\n",
    "print(score)\n",
    "print(score.mean())"
   ]
  },
  {
   "cell_type": "code",
   "execution_count": null,
   "metadata": {},
   "outputs": [
    {
     "name": "stdout",
     "output_type": "stream",
     "text": [
      "==============================\n",
      "KNeighborsClassifier\n",
      "****Results****\n",
      "Accuracy: 66.6667%\n",
      "Log Loss: 2.8425617495213658\n",
      "MeanCVScore: 0.69375\n",
      "10FoldCVScore: [0.7291666666666666, 0.6666666666666666, 0.6875, 0.6666666666666666, 0.6875, 0.6875, 0.7083333333333334, 0.75, 0.6666666666666666, 0.6875]\n",
      "sensitivity: 0.69375\n",
      "specificity: 0.846875\n",
      "f1-score: 0.6961262199962062\n",
      "==============================\n",
      "DecisionTreeClassifier\n",
      "****Results****\n",
      "Accuracy: 81.2500%\n",
      "Log Loss: 6.476020574045754\n",
      "MeanCVScore: 0.8583333333333334\n",
      "10FoldCVScore: [0.8125, 0.9375, 0.8958333333333334, 0.75, 0.8958333333333334, 0.875, 0.875, 0.8541666666666666, 0.8125, 0.875]\n",
      "sensitivity: 0.8583333333333334\n",
      "specificity: 0.9291666666666666\n",
      "f1-score: 0.8594917023125653\n",
      "==============================\n",
      "RandomForestClassifier\n",
      "****Results****\n",
      "Accuracy: 89.5833%\n",
      "Log Loss: 0.3557792184208239\n",
      "MeanCVScore: 0.875\n",
      "10FoldCVScore: [0.8333333333333334, 0.8541666666666666, 0.875, 0.875, 0.8333333333333334, 0.875, 0.7916666666666666, 0.9791666666666666, 0.9583333333333334, 0.875]\n",
      "sensitivity: 0.875\n",
      "specificity: 0.9375\n",
      "f1-score: 0.8764604947550868\n",
      "==============================\n",
      "AdaBoostClassifier\n",
      "****Results****\n",
      "Accuracy: 69.7917%\n",
      "Log Loss: 0.5913740160314656\n",
      "MeanCVScore: 0.7083333333333333\n",
      "10FoldCVScore: [0.7291666666666666, 0.6875, 0.7916666666666666, 0.6666666666666666, 0.7291666666666666, 0.7916666666666666, 0.6041666666666666, 0.6458333333333334, 0.7708333333333334, 0.6666666666666666]\n",
      "sensitivity: 0.7083333333333333\n",
      "specificity: 0.8541666666666667\n",
      "f1-score: 0.7122049919425816\n",
      "==============================\n",
      "GradientBoostingClassifier\n",
      "****Results****\n",
      "Accuracy: 89.5833%\n",
      "Log Loss: 0.2180085526524651\n",
      "MeanCVScore: 0.9333333333333332\n",
      "10FoldCVScore: [0.9375, 0.9166666666666666, 0.8958333333333334, 0.9375, 0.8958333333333334, 0.9375, 0.9583333333333334, 0.9583333333333334, 0.9583333333333334, 0.9375]\n",
      "sensitivity: 0.9333333333333332\n",
      "specificity: 0.9666666666666668\n",
      "f1-score: 0.9337710678871609\n",
      "==============================\n",
      "GaussianNB\n",
      "****Results****\n",
      "Accuracy: 63.5417%\n",
      "Log Loss: 12.592262227311187\n",
      "MeanCVScore: 0.5958333333333332\n",
      "10FoldCVScore: [0.6666666666666666, 0.5625, 0.625, 0.6041666666666666, 0.625, 0.5625, 0.5833333333333334, 0.5625, 0.5833333333333334, 0.5833333333333334]\n",
      "sensitivity: 0.5958333333333332\n",
      "specificity: 0.7979166666666668\n",
      "f1-score: 0.5353170235542855\n",
      "==============================\n",
      "LinearDiscriminantAnalysis\n",
      "****Results****\n",
      "Accuracy: 85.4167%\n",
      "Log Loss: 1.328436595128622\n"
     ]
    }
   ],
   "source": [
    "\n",
    "classifiers = [\n",
    "    KNeighborsClassifier(3),\n",
    "    #SVC(kernel=\"rbf\", C=0.025, probability=True),\n",
    "    #NuSVC(probability=True),\n",
    "    DecisionTreeClassifier(),\n",
    "    RandomForestClassifier(),\n",
    "    AdaBoostClassifier(),\n",
    "    GradientBoostingClassifier(),\n",
    "    GaussianNB(),\n",
    "    LinearDiscriminantAnalysis(),\n",
    "    QuadraticDiscriminantAnalysis()]\n",
    "\n",
    "# Logging for Visual Comparison\n",
    "log_cols=[\"Classifier\", \"Accuracy\", \"Log Loss\"]\n",
    "log = pd.DataFrame(columns=log_cols)\n",
    "\n",
    "for clf in classifiers:\n",
    "    clf.fit(X_train, y_train)\n",
    "    name = clf.__class__.__name__\n",
    "    \n",
    "    print(\"=\"*30)\n",
    "    print(name)\n",
    "    \n",
    "    print('****Results****')\n",
    "    train_predictions = clf.predict(X_test)\n",
    "    acc = accuracy_score(y_test, train_predictions)\n",
    "    print(\"Accuracy: {:.4%}\".format(acc))\n",
    "    \n",
    "    train_predictions = clf.predict_proba(X_test)\n",
    "    ll = log_loss(y_test, train_predictions)\n",
    "    print(\"Log Loss: {}\".format(ll))\n",
    "    \n",
    "    log_entry = pd.DataFrame([[name, acc*100, ll]], columns=log_cols)\n",
    "    log = log.append(log_entry)\n",
    "    \n",
    "    ######################### perform 10 fold validation ######################\n",
    "    kf = StratifiedKFold(n_splits=10)\n",
    "    scorelist = []\n",
    "    sensitivity = []\n",
    "    specificity = []\n",
    "    f1 = []\n",
    "    for train_index, test_index in kf.split(xList, yList):\n",
    "        clf.fit(xList[train_index], yList[train_index])\n",
    "        p = clf.predict(xList[test_index])\n",
    "        accval = accuracy_score(yList[test_index], p)\n",
    "        scorelist.append(accval)\n",
    "        sss = sensitivity_specificity_support(yList[test_index], p, average='macro')\n",
    "        sensitivity.append(sss[0])\n",
    "        specificity.append(sss[1])\n",
    "        f1.append(f1_score(yList[test_index], p, average='macro') )\n",
    "\n",
    "        \n",
    "    print(\"MeanCVScore: {}\".format(sum(scorelist)/len(scorelist)))\n",
    "    print(\"10FoldCVScore: {}\".format(scorelist))\n",
    "    print(\"sensitivity: {}\".format(sum(sensitivity)/len(sensitivity)))\n",
    "    print(\"specificity: {}\".format(sum(specificity)/len(specificity)))\n",
    "    print(\"f1-score: {}\".format(sum(f1)/len(f1)))\n",
    "\n",
    "    #############################################################################\n",
    "    \n",
    "print(\"=\"*30)"
   ]
  },
  {
   "cell_type": "code",
   "execution_count": null,
   "metadata": {
    "collapsed": true
   },
   "outputs": [],
   "source": []
  },
  {
   "cell_type": "code",
   "execution_count": null,
   "metadata": {
    "collapsed": true
   },
   "outputs": [],
   "source": []
  },
  {
   "cell_type": "code",
   "execution_count": null,
   "metadata": {
    "collapsed": true
   },
   "outputs": [],
   "source": []
  },
  {
   "cell_type": "code",
   "execution_count": null,
   "metadata": {
    "collapsed": true
   },
   "outputs": [],
   "source": []
  },
  {
   "cell_type": "code",
   "execution_count": null,
   "metadata": {
    "collapsed": true
   },
   "outputs": [],
   "source": []
  }
 ],
 "metadata": {
  "kernelspec": {
   "display_name": "Python [conda env:fastai]",
   "language": "python",
   "name": "conda-env-fastai-py"
  },
  "language_info": {
   "codemirror_mode": {
    "name": "ipython",
    "version": 3
   },
   "file_extension": ".py",
   "mimetype": "text/x-python",
   "name": "python",
   "nbconvert_exporter": "python",
   "pygments_lexer": "ipython3",
   "version": "3.6.4"
  }
 },
 "nbformat": 4,
 "nbformat_minor": 2
}
